{
 "cells": [
  {
   "cell_type": "markdown",
   "id": "64880f96",
   "metadata": {},
   "source": [
    "# How to Create Effective and Engaging Data Visualizations with Jupyter Notebooks\n",
    "Data visualization is the art and science of transforming data into visual forms that can communicate insights, patterns, trends, and relationships. Data visualization can help us understand complex data sets, tell compelling stories with data, and persuade our audience with evidence.\n",
    "\n",
    "But how can we create effective and engaging data visualizations that stand out from the crowd? In this blog post, I will share some data visualization best practices and show you how to apply them using Jupyter notebooks, a powerful tool for interactive data analysis and presentation.\n",
    "\n",
    "### What is Jupyter Notebook?\n",
    "Jupyter notebook is an open-source web application that allows you to create and share documents that contain live code, equations, visualizations, and narrative text. You can use Jupyter notebook for data cleaning, transformation, exploration, modeling, visualization, machine learning, and much more.\n",
    "\n",
    "Jupyter notebook supports multiple programming languages, such as Python, R, Julia, and Scala. You can also use various libraries and frameworks, such as pandas, numpy, matplotlib, seaborn, plotly, scikit-learn, tensorflow, and pytorch, to enhance your data analysis and visualization capabilities.\n",
    "\n",
    "One of the main advantages of Jupyter notebook is that it enables you to combine code, output, and explanation in a single document, making your work more transparent, reproducible, and shareable. You can also export your notebook as HTML, PDF, or slides, or publish it online using platforms like Binder, Colab, or GitHub.\n",
    "\n",
    "### Data Visualization Best Practices\n",
    "Let’s review some data visualization best practices that can help us create better charts and graphs."
   ]
  },
  {
   "cell_type": "markdown",
   "id": "abd40f13",
   "metadata": {},
   "source": [
    "But before we start dealing with data, let's first import some python libraries.\n",
    "We will use pandas, numpy, matplotlib, and seaborn for this example. You can install these libraries using pip or conda, or use a pre-installed environment such as Anaconda.\n",
    "\n",
    "To import the libraries, we can use the following code:"
   ]
  },
  {
   "cell_type": "code",
   "execution_count": 1,
   "id": "fcd6b5f1",
   "metadata": {},
   "outputs": [],
   "source": [
    "# Import libraries\n",
    "import pandas as pd\n",
    "import numpy as np\n",
    "import matplotlib.pyplot as plt\n",
    "import seaborn as sns"
   ]
  },
  {
   "cell_type": "code",
   "execution_count": 3,
   "id": "1b979d4c",
   "metadata": {},
   "outputs": [
    {
     "data": {
      "text/html": [
       "<div>\n",
       "<style scoped>\n",
       "    .dataframe tbody tr th:only-of-type {\n",
       "        vertical-align: middle;\n",
       "    }\n",
       "\n",
       "    .dataframe tbody tr th {\n",
       "        vertical-align: top;\n",
       "    }\n",
       "\n",
       "    .dataframe thead th {\n",
       "        text-align: right;\n",
       "    }\n",
       "</style>\n",
       "<table border=\"1\" class=\"dataframe\">\n",
       "  <thead>\n",
       "    <tr style=\"text-align: right;\">\n",
       "      <th></th>\n",
       "      <th>Year</th>\n",
       "      <th>Rank</th>\n",
       "      <th>Company</th>\n",
       "      <th>Revenue (in millions)</th>\n",
       "      <th>Profit (in millions)</th>\n",
       "    </tr>\n",
       "  </thead>\n",
       "  <tbody>\n",
       "    <tr>\n",
       "      <th>0</th>\n",
       "      <td>1955</td>\n",
       "      <td>1</td>\n",
       "      <td>General Motors</td>\n",
       "      <td>9823.5</td>\n",
       "      <td>806</td>\n",
       "    </tr>\n",
       "    <tr>\n",
       "      <th>1</th>\n",
       "      <td>1955</td>\n",
       "      <td>2</td>\n",
       "      <td>Exxon Mobil</td>\n",
       "      <td>5661.4</td>\n",
       "      <td>584.8</td>\n",
       "    </tr>\n",
       "    <tr>\n",
       "      <th>2</th>\n",
       "      <td>1955</td>\n",
       "      <td>3</td>\n",
       "      <td>U.S. Steel</td>\n",
       "      <td>3250.4</td>\n",
       "      <td>195.4</td>\n",
       "    </tr>\n",
       "    <tr>\n",
       "      <th>3</th>\n",
       "      <td>1955</td>\n",
       "      <td>4</td>\n",
       "      <td>General Electric</td>\n",
       "      <td>2959.1</td>\n",
       "      <td>212.6</td>\n",
       "    </tr>\n",
       "    <tr>\n",
       "      <th>4</th>\n",
       "      <td>1955</td>\n",
       "      <td>5</td>\n",
       "      <td>Esmark</td>\n",
       "      <td>2510.8</td>\n",
       "      <td>19.1</td>\n",
       "    </tr>\n",
       "  </tbody>\n",
       "</table>\n",
       "</div>"
      ],
      "text/plain": [
       "   Year  Rank           Company  Revenue (in millions) Profit (in millions)\n",
       "0  1955     1    General Motors                 9823.5                  806\n",
       "1  1955     2       Exxon Mobil                 5661.4                584.8\n",
       "2  1955     3        U.S. Steel                 3250.4                195.4\n",
       "3  1955     4  General Electric                 2959.1                212.6\n",
       "4  1955     5            Esmark                 2510.8                 19.1"
      ]
     },
     "execution_count": 3,
     "metadata": {},
     "output_type": "execute_result"
    }
   ],
   "source": [
    "# Import data\n",
    "df = pd.read_csv(\"fortune500.csv\")\n",
    "df.head() # Read the first 5 rows in a dataframe"
   ]
  },
  {
   "cell_type": "markdown",
   "id": "3c19e9b1",
   "metadata": {},
   "source": [
    "We can see that the data frame has six columns: Year, Rank, Company, Revenue, and Profit. The data frame has 25,500 rows, one for each company listed in the Fortune 500 from 1955 to 2005."
   ]
  },
  {
   "cell_type": "markdown",
   "id": "c519c762",
   "metadata": {},
   "source": [
    "### Exploring and cleaning the data\n",
    "The next step is to explore and clean the data, to make sure that it is accurate, complete, and consistent. We can use various pandas methods and attributes to check the basic information, summary statistics, and missing values of the data frame."
   ]
  },
  {
   "cell_type": "code",
   "execution_count": 4,
   "id": "eca6c4af",
   "metadata": {},
   "outputs": [
    {
     "name": "stdout",
     "output_type": "stream",
     "text": [
      "<class 'pandas.core.frame.DataFrame'>\n",
      "RangeIndex: 25500 entries, 0 to 25499\n",
      "Data columns (total 5 columns):\n",
      " #   Column                 Non-Null Count  Dtype  \n",
      "---  ------                 --------------  -----  \n",
      " 0   Year                   25500 non-null  int64  \n",
      " 1   Rank                   25500 non-null  int64  \n",
      " 2   Company                25500 non-null  object \n",
      " 3   Revenue (in millions)  25500 non-null  float64\n",
      " 4   Profit (in millions)   25500 non-null  object \n",
      "dtypes: float64(1), int64(2), object(2)\n",
      "memory usage: 996.2+ KB\n"
     ]
    }
   ],
   "source": [
    "# Check for basic information\n",
    "df.info()"
   ]
  },
  {
   "cell_type": "markdown",
   "id": "a802e817",
   "metadata": {},
   "source": [
    "We can see that the data frame has 25,500 non-null entries, and that the data types are mostly numeric, except for the Company and Profit columns, which are objects. This is strange, because we would expect the Profit column to be numeric as well. Let’s investigate this further."
   ]
  },
  {
   "cell_type": "code",
   "execution_count": 5,
   "id": "20fad18f",
   "metadata": {},
   "outputs": [
    {
     "data": {
      "text/html": [
       "<div>\n",
       "<style scoped>\n",
       "    .dataframe tbody tr th:only-of-type {\n",
       "        vertical-align: middle;\n",
       "    }\n",
       "\n",
       "    .dataframe tbody tr th {\n",
       "        vertical-align: top;\n",
       "    }\n",
       "\n",
       "    .dataframe thead th {\n",
       "        text-align: right;\n",
       "    }\n",
       "</style>\n",
       "<table border=\"1\" class=\"dataframe\">\n",
       "  <thead>\n",
       "    <tr style=\"text-align: right;\">\n",
       "      <th></th>\n",
       "      <th>Year</th>\n",
       "      <th>Rank</th>\n",
       "      <th>Revenue (in millions)</th>\n",
       "    </tr>\n",
       "  </thead>\n",
       "  <tbody>\n",
       "    <tr>\n",
       "      <th>count</th>\n",
       "      <td>25500.00000</td>\n",
       "      <td>25500.000000</td>\n",
       "      <td>25500.000000</td>\n",
       "    </tr>\n",
       "    <tr>\n",
       "      <th>mean</th>\n",
       "      <td>1980.00000</td>\n",
       "      <td>250.499765</td>\n",
       "      <td>4273.329635</td>\n",
       "    </tr>\n",
       "    <tr>\n",
       "      <th>std</th>\n",
       "      <td>14.71989</td>\n",
       "      <td>144.339963</td>\n",
       "      <td>11351.884979</td>\n",
       "    </tr>\n",
       "    <tr>\n",
       "      <th>min</th>\n",
       "      <td>1955.00000</td>\n",
       "      <td>1.000000</td>\n",
       "      <td>49.700000</td>\n",
       "    </tr>\n",
       "    <tr>\n",
       "      <th>25%</th>\n",
       "      <td>1967.00000</td>\n",
       "      <td>125.750000</td>\n",
       "      <td>362.300000</td>\n",
       "    </tr>\n",
       "    <tr>\n",
       "      <th>50%</th>\n",
       "      <td>1980.00000</td>\n",
       "      <td>250.500000</td>\n",
       "      <td>1019.000000</td>\n",
       "    </tr>\n",
       "    <tr>\n",
       "      <th>75%</th>\n",
       "      <td>1993.00000</td>\n",
       "      <td>375.250000</td>\n",
       "      <td>3871.000000</td>\n",
       "    </tr>\n",
       "    <tr>\n",
       "      <th>max</th>\n",
       "      <td>2005.00000</td>\n",
       "      <td>500.000000</td>\n",
       "      <td>288189.000000</td>\n",
       "    </tr>\n",
       "  </tbody>\n",
       "</table>\n",
       "</div>"
      ],
      "text/plain": [
       "              Year          Rank  Revenue (in millions)\n",
       "count  25500.00000  25500.000000           25500.000000\n",
       "mean    1980.00000    250.499765            4273.329635\n",
       "std       14.71989    144.339963           11351.884979\n",
       "min     1955.00000      1.000000              49.700000\n",
       "25%     1967.00000    125.750000             362.300000\n",
       "50%     1980.00000    250.500000            1019.000000\n",
       "75%     1993.00000    375.250000            3871.000000\n",
       "max     2005.00000    500.000000          288189.000000"
      ]
     },
     "execution_count": 5,
     "metadata": {},
     "output_type": "execute_result"
    }
   ],
   "source": [
    "# Check summary statistics of the dataframe\n",
    "df.describe()"
   ]
  },
  {
   "cell_type": "code",
   "execution_count": 16,
   "id": "64dfc9e3",
   "metadata": {},
   "outputs": [],
   "source": [
    "df.drop(df[df['Profit (in millions)'] == 'N.A.'].index, inplace=True)"
   ]
  },
  {
   "cell_type": "code",
   "execution_count": 17,
   "id": "aeaf6886",
   "metadata": {},
   "outputs": [],
   "source": [
    "df['Profit (in millions)'] = df['Profit (in millions)'].astype(float).astype(int)"
   ]
  },
  {
   "cell_type": "code",
   "execution_count": 18,
   "id": "d41fe4e9",
   "metadata": {},
   "outputs": [
    {
     "data": {
      "text/html": [
       "<div>\n",
       "<style scoped>\n",
       "    .dataframe tbody tr th:only-of-type {\n",
       "        vertical-align: middle;\n",
       "    }\n",
       "\n",
       "    .dataframe tbody tr th {\n",
       "        vertical-align: top;\n",
       "    }\n",
       "\n",
       "    .dataframe thead th {\n",
       "        text-align: right;\n",
       "    }\n",
       "</style>\n",
       "<table border=\"1\" class=\"dataframe\">\n",
       "  <thead>\n",
       "    <tr style=\"text-align: right;\">\n",
       "      <th></th>\n",
       "      <th>Year</th>\n",
       "      <th>Rank</th>\n",
       "      <th>Revenue (in millions)</th>\n",
       "      <th>Profit (in millions)</th>\n",
       "    </tr>\n",
       "  </thead>\n",
       "  <tbody>\n",
       "    <tr>\n",
       "      <th>count</th>\n",
       "      <td>25131.000000</td>\n",
       "      <td>25131.000000</td>\n",
       "      <td>25131.000000</td>\n",
       "      <td>25131.000000</td>\n",
       "    </tr>\n",
       "    <tr>\n",
       "      <th>mean</th>\n",
       "      <td>1979.926784</td>\n",
       "      <td>249.744777</td>\n",
       "      <td>4304.961780</td>\n",
       "      <td>207.578688</td>\n",
       "    </tr>\n",
       "    <tr>\n",
       "      <th>std</th>\n",
       "      <td>14.764827</td>\n",
       "      <td>144.443000</td>\n",
       "      <td>11396.723687</td>\n",
       "      <td>1173.703728</td>\n",
       "    </tr>\n",
       "    <tr>\n",
       "      <th>min</th>\n",
       "      <td>1955.000000</td>\n",
       "      <td>1.000000</td>\n",
       "      <td>49.700000</td>\n",
       "      <td>-98696.000000</td>\n",
       "    </tr>\n",
       "    <tr>\n",
       "      <th>25%</th>\n",
       "      <td>1967.000000</td>\n",
       "      <td>124.000000</td>\n",
       "      <td>357.900000</td>\n",
       "      <td>8.000000</td>\n",
       "    </tr>\n",
       "    <tr>\n",
       "      <th>50%</th>\n",
       "      <td>1980.000000</td>\n",
       "      <td>250.000000</td>\n",
       "      <td>1017.600000</td>\n",
       "      <td>35.000000</td>\n",
       "    </tr>\n",
       "    <tr>\n",
       "      <th>75%</th>\n",
       "      <td>1993.000000</td>\n",
       "      <td>375.000000</td>\n",
       "      <td>3916.100000</td>\n",
       "      <td>150.000000</td>\n",
       "    </tr>\n",
       "    <tr>\n",
       "      <th>max</th>\n",
       "      <td>2005.000000</td>\n",
       "      <td>500.000000</td>\n",
       "      <td>288189.000000</td>\n",
       "      <td>25330.000000</td>\n",
       "    </tr>\n",
       "  </tbody>\n",
       "</table>\n",
       "</div>"
      ],
      "text/plain": [
       "               Year          Rank  Revenue (in millions)  Profit (in millions)\n",
       "count  25131.000000  25131.000000           25131.000000          25131.000000\n",
       "mean    1979.926784    249.744777            4304.961780            207.578688\n",
       "std       14.764827    144.443000           11396.723687           1173.703728\n",
       "min     1955.000000      1.000000              49.700000         -98696.000000\n",
       "25%     1967.000000    124.000000             357.900000              8.000000\n",
       "50%     1980.000000    250.000000            1017.600000             35.000000\n",
       "75%     1993.000000    375.000000            3916.100000            150.000000\n",
       "max     2005.000000    500.000000          288189.000000          25330.000000"
      ]
     },
     "execution_count": 18,
     "metadata": {},
     "output_type": "execute_result"
    }
   ],
   "source": [
    "df.describe()"
   ]
  },
  {
   "cell_type": "code",
   "execution_count": 19,
   "id": "722b4ba2",
   "metadata": {},
   "outputs": [
    {
     "name": "stdout",
     "output_type": "stream",
     "text": [
      "<class 'pandas.core.frame.DataFrame'>\n",
      "Int64Index: 25131 entries, 0 to 25499\n",
      "Data columns (total 5 columns):\n",
      " #   Column                 Non-Null Count  Dtype  \n",
      "---  ------                 --------------  -----  \n",
      " 0   Year                   25131 non-null  int64  \n",
      " 1   Rank                   25131 non-null  int64  \n",
      " 2   Company                25131 non-null  object \n",
      " 3   Revenue (in millions)  25131 non-null  float64\n",
      " 4   Profit (in millions)   25131 non-null  int32  \n",
      "dtypes: float64(1), int32(1), int64(2), object(1)\n",
      "memory usage: 1.1+ MB\n"
     ]
    }
   ],
   "source": [
    "df.info()"
   ]
  },
  {
   "cell_type": "markdown",
   "id": "584f6dde",
   "metadata": {},
   "source": [
    "#### 1. Know your audience and purpose\n",
    "This is a good practice because it helps you tailor your visualization to the needs and expectations of your audience, and to convey your message clearly and effectively. For example, if you are creating a visualization for a business audience, you might want to use a bar chart to show the sales performance of different products, and use a catchy title and a call to action to persuade them to buy more. If you are creating a visualization for a scientific audience, you might want to use a scatter plot to show the correlation between two variables, and use a descriptive title and a reference to support your hypothesis."
   ]
  }
 ],
 "metadata": {
  "kernelspec": {
   "display_name": "Python 3",
   "language": "python",
   "name": "python3"
  },
  "language_info": {
   "codemirror_mode": {
    "name": "ipython",
    "version": 3
   },
   "file_extension": ".py",
   "mimetype": "text/x-python",
   "name": "python",
   "nbconvert_exporter": "python",
   "pygments_lexer": "ipython3",
   "version": "3.8.8"
  }
 },
 "nbformat": 4,
 "nbformat_minor": 5
}
