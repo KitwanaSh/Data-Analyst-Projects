{
 "cells": [
  {
   "cell_type": "markdown",
   "metadata": {},
   "source": [
    "# Project: Investigate a Dataset (TMBb movie data)\n",
    "\n",
    "## Table of Contents\n",
    "<ul>\n",
    "<li><a href=\"#intro\">Introduction</a></li>\n",
    "<li><a href=\"#wrangling\">Data Wrangling</a></li>\n",
    "<li><a href=\"#eda\">Exploratory Data Analysis</a></li>\n",
    "<li><a href=\"#conclusions\">Conclusions</a></li>\n",
    "</ul>"
   ]
  },
  {
   "cell_type": "markdown",
   "metadata": {},
   "source": [
    "<a id='intro'></a>\n",
    "## Introduction\n",
    "\n",
    "### Dataset desciption\n",
    "This data set contains information about 10,000 movies collected from The Movie Database (TMDb) from 1960 to 2015, including user ratings and revenue.\n",
    "### Questions for analysis\n",
    "As the dataset it self is about movies, i thought about the following questions:\n",
    "* Which 10 movie genres have the most revenue ?\n",
    "* What are the top 10 most successful movie directors ?\n",
    "    * Show the number of movies each year.\n",
    "* what is the relationship between the release year with the ratings ?\n",
    "* What kinds of properties are associeted with movies that have high revenue ?\n",
    "* What are the top 10 most frequent genres?\n",
    "* What is the ralationship between the budget and the revenue throught the years?\n",
    "    * Which movie had the highest budget ?\n",
    "    * Which movie had the lowest budget ?\n",
    "    * Which movie had the highest revenue ?\n",
    "    * Which movie had the lowest revenue ?\n",
    "    * How the revenue tends to move with the profit ?"
   ]
  },
  {
   "cell_type": "code",
   "execution_count": 4,
   "metadata": {},
   "outputs": [],
   "source": [
    "# Import the needed libraries for this project\n",
    "import pandas as pd\n",
    "import numpy as np\n",
    "import matplotlib.pyplot as plt\n",
    "import seaborn as sns\n",
    "%matplotlib inline"
   ]
  },
  {
   "cell_type": "markdown",
   "metadata": {},
   "source": [
    "<a id='wrangling'></a>\n",
    "## Data Wrangling\n",
    "\n",
    "### General Properties"
   ]
  },
  {
   "cell_type": "code",
   "execution_count": 54,
   "metadata": {
    "scrolled": true
   },
   "outputs": [
    {
     "data": {
      "text/html": [
       "<div>\n",
       "<style scoped>\n",
       "    .dataframe tbody tr th:only-of-type {\n",
       "        vertical-align: middle;\n",
       "    }\n",
       "\n",
       "    .dataframe tbody tr th {\n",
       "        vertical-align: top;\n",
       "    }\n",
       "\n",
       "    .dataframe thead th {\n",
       "        text-align: right;\n",
       "    }\n",
       "</style>\n",
       "<table border=\"1\" class=\"dataframe\">\n",
       "  <thead>\n",
       "    <tr style=\"text-align: right;\">\n",
       "      <th></th>\n",
       "      <th>id</th>\n",
       "      <th>imdb_id</th>\n",
       "      <th>popularity</th>\n",
       "      <th>budget</th>\n",
       "      <th>revenue</th>\n",
       "      <th>original_title</th>\n",
       "      <th>cast</th>\n",
       "      <th>homepage</th>\n",
       "      <th>director</th>\n",
       "      <th>tagline</th>\n",
       "      <th>...</th>\n",
       "      <th>overview</th>\n",
       "      <th>runtime</th>\n",
       "      <th>genres</th>\n",
       "      <th>production_companies</th>\n",
       "      <th>release_date</th>\n",
       "      <th>vote_count</th>\n",
       "      <th>vote_average</th>\n",
       "      <th>release_year</th>\n",
       "      <th>budget_adj</th>\n",
       "      <th>revenue_adj</th>\n",
       "    </tr>\n",
       "  </thead>\n",
       "  <tbody>\n",
       "    <tr>\n",
       "      <th>0</th>\n",
       "      <td>135397</td>\n",
       "      <td>tt0369610</td>\n",
       "      <td>32.985763</td>\n",
       "      <td>150000000</td>\n",
       "      <td>1513528810</td>\n",
       "      <td>Jurassic World</td>\n",
       "      <td>Chris Pratt|Bryce Dallas Howard|Irrfan Khan|Vi...</td>\n",
       "      <td>http://www.jurassicworld.com/</td>\n",
       "      <td>Colin Trevorrow</td>\n",
       "      <td>The park is open.</td>\n",
       "      <td>...</td>\n",
       "      <td>Twenty-two years after the events of Jurassic ...</td>\n",
       "      <td>124</td>\n",
       "      <td>Action|Adventure|Science Fiction|Thriller</td>\n",
       "      <td>Universal Studios|Amblin Entertainment|Legenda...</td>\n",
       "      <td>6/9/15</td>\n",
       "      <td>5562</td>\n",
       "      <td>6.5</td>\n",
       "      <td>2015</td>\n",
       "      <td>1.379999e+08</td>\n",
       "      <td>1.392446e+09</td>\n",
       "    </tr>\n",
       "    <tr>\n",
       "      <th>1</th>\n",
       "      <td>76341</td>\n",
       "      <td>tt1392190</td>\n",
       "      <td>28.419936</td>\n",
       "      <td>150000000</td>\n",
       "      <td>378436354</td>\n",
       "      <td>Mad Max: Fury Road</td>\n",
       "      <td>Tom Hardy|Charlize Theron|Hugh Keays-Byrne|Nic...</td>\n",
       "      <td>http://www.madmaxmovie.com/</td>\n",
       "      <td>George Miller</td>\n",
       "      <td>What a Lovely Day.</td>\n",
       "      <td>...</td>\n",
       "      <td>An apocalyptic story set in the furthest reach...</td>\n",
       "      <td>120</td>\n",
       "      <td>Action|Adventure|Science Fiction|Thriller</td>\n",
       "      <td>Village Roadshow Pictures|Kennedy Miller Produ...</td>\n",
       "      <td>5/13/15</td>\n",
       "      <td>6185</td>\n",
       "      <td>7.1</td>\n",
       "      <td>2015</td>\n",
       "      <td>1.379999e+08</td>\n",
       "      <td>3.481613e+08</td>\n",
       "    </tr>\n",
       "  </tbody>\n",
       "</table>\n",
       "<p>2 rows × 21 columns</p>\n",
       "</div>"
      ],
      "text/plain": [
       "       id    imdb_id  popularity     budget     revenue      original_title  \\\n",
       "0  135397  tt0369610   32.985763  150000000  1513528810      Jurassic World   \n",
       "1   76341  tt1392190   28.419936  150000000   378436354  Mad Max: Fury Road   \n",
       "\n",
       "                                                cast  \\\n",
       "0  Chris Pratt|Bryce Dallas Howard|Irrfan Khan|Vi...   \n",
       "1  Tom Hardy|Charlize Theron|Hugh Keays-Byrne|Nic...   \n",
       "\n",
       "                        homepage         director             tagline  ...  \\\n",
       "0  http://www.jurassicworld.com/  Colin Trevorrow   The park is open.  ...   \n",
       "1    http://www.madmaxmovie.com/    George Miller  What a Lovely Day.  ...   \n",
       "\n",
       "                                            overview runtime  \\\n",
       "0  Twenty-two years after the events of Jurassic ...     124   \n",
       "1  An apocalyptic story set in the furthest reach...     120   \n",
       "\n",
       "                                      genres  \\\n",
       "0  Action|Adventure|Science Fiction|Thriller   \n",
       "1  Action|Adventure|Science Fiction|Thriller   \n",
       "\n",
       "                                production_companies release_date vote_count  \\\n",
       "0  Universal Studios|Amblin Entertainment|Legenda...       6/9/15       5562   \n",
       "1  Village Roadshow Pictures|Kennedy Miller Produ...      5/13/15       6185   \n",
       "\n",
       "   vote_average  release_year    budget_adj   revenue_adj  \n",
       "0           6.5          2015  1.379999e+08  1.392446e+09  \n",
       "1           7.1          2015  1.379999e+08  3.481613e+08  \n",
       "\n",
       "[2 rows x 21 columns]"
      ]
     },
     "execution_count": 54,
     "metadata": {},
     "output_type": "execute_result"
    }
   ],
   "source": [
    "# Load the data and print out a few lines. Perform operations to inspect data\n",
    "#   types and look for instances of missing or possibly errant data.\n",
    "df_m = pd.read_csv(\"tmdb_movies.csv\")\n",
    "df_m.head(2)"
   ]
  },
  {
   "cell_type": "code",
   "execution_count": 40,
   "metadata": {
    "scrolled": true
   },
   "outputs": [
    {
     "name": "stdout",
     "output_type": "stream",
     "text": [
      "<class 'pandas.core.frame.DataFrame'>\n",
      "RangeIndex: 10866 entries, 0 to 10865\n",
      "Data columns (total 21 columns):\n",
      " #   Column                Non-Null Count  Dtype  \n",
      "---  ------                --------------  -----  \n",
      " 0   id                    10866 non-null  int64  \n",
      " 1   imdb_id               10856 non-null  object \n",
      " 2   popularity            10866 non-null  float64\n",
      " 3   budget                10866 non-null  int64  \n",
      " 4   revenue               10866 non-null  int64  \n",
      " 5   original_title        10866 non-null  object \n",
      " 6   cast                  10790 non-null  object \n",
      " 7   homepage              2936 non-null   object \n",
      " 8   director              10822 non-null  object \n",
      " 9   tagline               8042 non-null   object \n",
      " 10  keywords              9373 non-null   object \n",
      " 11  overview              10862 non-null  object \n",
      " 12  runtime               10866 non-null  int64  \n",
      " 13  genres                10843 non-null  object \n",
      " 14  production_companies  9836 non-null   object \n",
      " 15  release_date          10866 non-null  object \n",
      " 16  vote_count            10866 non-null  int64  \n",
      " 17  vote_average          10866 non-null  float64\n",
      " 18  release_year          10866 non-null  int64  \n",
      " 19  budget_adj            10866 non-null  float64\n",
      " 20  revenue_adj           10866 non-null  float64\n",
      "dtypes: float64(4), int64(6), object(11)\n",
      "memory usage: 1.7+ MB\n"
     ]
    }
   ],
   "source": [
    "df_m.info()"
   ]
  },
  {
   "cell_type": "markdown",
   "metadata": {},
   "source": [
    "By looking at the two results, we can see that the dataset has 10866 rows and 21 columns. Almost half of columns have null values like:\n",
    "imdb_id, cast, homepage, director, tagline, keywords, overview, renges and production_companies."
   ]
  },
  {
   "cell_type": "code",
   "execution_count": 41,
   "metadata": {
    "scrolled": true
   },
   "outputs": [
    {
     "data": {
      "text/plain": [
       "id                      10865\n",
       "imdb_id                 10855\n",
       "popularity              10814\n",
       "budget                    557\n",
       "revenue                  4702\n",
       "original_title          10571\n",
       "cast                    10719\n",
       "homepage                 2896\n",
       "director                 5067\n",
       "tagline                  7997\n",
       "keywords                 8804\n",
       "overview                10847\n",
       "runtime                   247\n",
       "genres                   2039\n",
       "production_companies     7445\n",
       "release_date             5909\n",
       "vote_count               1289\n",
       "vote_average               72\n",
       "release_year               56\n",
       "budget_adj               2614\n",
       "revenue_adj              4840\n",
       "dtype: int64"
      ]
     },
     "execution_count": 41,
     "metadata": {},
     "output_type": "execute_result"
    }
   ],
   "source": [
    "# Show the number of unique values in each column\n",
    "df_m.nunique()"
   ]
  },
  {
   "cell_type": "markdown",
   "metadata": {},
   "source": [
    "The above result how us that there is a possibility of only 1 duplicate when we look at the **imbd_id** columns. Howerver, if we observe better the **original_title** colums, we see that is shows the count of 10571 out of 10866. That's a problem, it means there are more duplicates in the dataset than it seems "
   ]
  },
  {
   "cell_type": "code",
   "execution_count": 4,
   "metadata": {
    "scrolled": true
   },
   "outputs": [
    {
     "data": {
      "text/plain": [
       "id                         0\n",
       "imdb_id                   10\n",
       "popularity                 0\n",
       "budget                     0\n",
       "revenue                    0\n",
       "original_title             0\n",
       "cast                      76\n",
       "homepage                7930\n",
       "director                  44\n",
       "tagline                 2824\n",
       "keywords                1493\n",
       "overview                   4\n",
       "runtime                    0\n",
       "genres                    23\n",
       "production_companies    1030\n",
       "release_date               0\n",
       "vote_count                 0\n",
       "vote_average               0\n",
       "release_year               0\n",
       "budget_adj                 0\n",
       "revenue_adj                0\n",
       "dtype: int64"
      ]
     },
     "execution_count": 4,
     "metadata": {},
     "output_type": "execute_result"
    }
   ],
   "source": [
    "# check for null values in the dataset\n",
    "df_m.isna().sum()"
   ]
  },
  {
   "cell_type": "markdown",
   "metadata": {},
   "source": [
    "The same way we could the null values with `df_m.info()`"
   ]
  },
  {
   "cell_type": "code",
   "execution_count": 47,
   "metadata": {},
   "outputs": [
    {
     "data": {
      "text/plain": [
       "array([2015, 2014, 1977, 2009, 2010, 1999, 2001, 2008, 2011, 2002, 1994,\n",
       "       2012, 2003, 1997, 2013, 1985, 2005, 2006, 2004, 1972, 1980, 2007,\n",
       "       1979, 1984, 1983, 1995, 1992, 1981, 1996, 2000, 1982, 1998, 1989,\n",
       "       1991, 1988, 1987, 1968, 1974, 1975, 1962, 1964, 1971, 1990, 1961,\n",
       "       1960, 1976, 1993, 1967, 1963, 1986, 1973, 1970, 1965, 1969, 1978,\n",
       "       1966], dtype=int64)"
      ]
     },
     "execution_count": 47,
     "metadata": {},
     "output_type": "execute_result"
    }
   ],
   "source": [
    "# show how the year are presented uniquely in the dataset\n",
    "df_m.release_year.unique()"
   ]
  },
  {
   "cell_type": "code",
   "execution_count": 49,
   "metadata": {
    "scrolled": true
   },
   "outputs": [
    {
     "data": {
      "text/html": [
       "<div>\n",
       "<style scoped>\n",
       "    .dataframe tbody tr th:only-of-type {\n",
       "        vertical-align: middle;\n",
       "    }\n",
       "\n",
       "    .dataframe tbody tr th {\n",
       "        vertical-align: top;\n",
       "    }\n",
       "\n",
       "    .dataframe thead th {\n",
       "        text-align: right;\n",
       "    }\n",
       "</style>\n",
       "<table border=\"1\" class=\"dataframe\">\n",
       "  <thead>\n",
       "    <tr style=\"text-align: right;\">\n",
       "      <th></th>\n",
       "      <th>id</th>\n",
       "      <th>popularity</th>\n",
       "      <th>budget</th>\n",
       "      <th>revenue</th>\n",
       "      <th>runtime</th>\n",
       "      <th>vote_count</th>\n",
       "      <th>vote_average</th>\n",
       "      <th>release_year</th>\n",
       "      <th>budget_adj</th>\n",
       "      <th>revenue_adj</th>\n",
       "    </tr>\n",
       "  </thead>\n",
       "  <tbody>\n",
       "    <tr>\n",
       "      <th>count</th>\n",
       "      <td>10866.000000</td>\n",
       "      <td>10866.000000</td>\n",
       "      <td>1.086600e+04</td>\n",
       "      <td>1.086600e+04</td>\n",
       "      <td>10866.000000</td>\n",
       "      <td>10866.000000</td>\n",
       "      <td>10866.000000</td>\n",
       "      <td>10866.000000</td>\n",
       "      <td>1.086600e+04</td>\n",
       "      <td>1.086600e+04</td>\n",
       "    </tr>\n",
       "    <tr>\n",
       "      <th>mean</th>\n",
       "      <td>66064.177434</td>\n",
       "      <td>0.646441</td>\n",
       "      <td>1.462570e+07</td>\n",
       "      <td>3.982332e+07</td>\n",
       "      <td>102.070863</td>\n",
       "      <td>217.389748</td>\n",
       "      <td>5.974922</td>\n",
       "      <td>2001.322658</td>\n",
       "      <td>1.755104e+07</td>\n",
       "      <td>5.136436e+07</td>\n",
       "    </tr>\n",
       "    <tr>\n",
       "      <th>std</th>\n",
       "      <td>92130.136561</td>\n",
       "      <td>1.000185</td>\n",
       "      <td>3.091321e+07</td>\n",
       "      <td>1.170035e+08</td>\n",
       "      <td>31.381405</td>\n",
       "      <td>575.619058</td>\n",
       "      <td>0.935142</td>\n",
       "      <td>12.812941</td>\n",
       "      <td>3.430616e+07</td>\n",
       "      <td>1.446325e+08</td>\n",
       "    </tr>\n",
       "    <tr>\n",
       "      <th>min</th>\n",
       "      <td>5.000000</td>\n",
       "      <td>0.000065</td>\n",
       "      <td>0.000000e+00</td>\n",
       "      <td>0.000000e+00</td>\n",
       "      <td>0.000000</td>\n",
       "      <td>10.000000</td>\n",
       "      <td>1.500000</td>\n",
       "      <td>1960.000000</td>\n",
       "      <td>0.000000e+00</td>\n",
       "      <td>0.000000e+00</td>\n",
       "    </tr>\n",
       "    <tr>\n",
       "      <th>25%</th>\n",
       "      <td>10596.250000</td>\n",
       "      <td>0.207583</td>\n",
       "      <td>0.000000e+00</td>\n",
       "      <td>0.000000e+00</td>\n",
       "      <td>90.000000</td>\n",
       "      <td>17.000000</td>\n",
       "      <td>5.400000</td>\n",
       "      <td>1995.000000</td>\n",
       "      <td>0.000000e+00</td>\n",
       "      <td>0.000000e+00</td>\n",
       "    </tr>\n",
       "    <tr>\n",
       "      <th>50%</th>\n",
       "      <td>20669.000000</td>\n",
       "      <td>0.383856</td>\n",
       "      <td>0.000000e+00</td>\n",
       "      <td>0.000000e+00</td>\n",
       "      <td>99.000000</td>\n",
       "      <td>38.000000</td>\n",
       "      <td>6.000000</td>\n",
       "      <td>2006.000000</td>\n",
       "      <td>0.000000e+00</td>\n",
       "      <td>0.000000e+00</td>\n",
       "    </tr>\n",
       "    <tr>\n",
       "      <th>75%</th>\n",
       "      <td>75610.000000</td>\n",
       "      <td>0.713817</td>\n",
       "      <td>1.500000e+07</td>\n",
       "      <td>2.400000e+07</td>\n",
       "      <td>111.000000</td>\n",
       "      <td>145.750000</td>\n",
       "      <td>6.600000</td>\n",
       "      <td>2011.000000</td>\n",
       "      <td>2.085325e+07</td>\n",
       "      <td>3.369710e+07</td>\n",
       "    </tr>\n",
       "    <tr>\n",
       "      <th>max</th>\n",
       "      <td>417859.000000</td>\n",
       "      <td>32.985763</td>\n",
       "      <td>4.250000e+08</td>\n",
       "      <td>2.781506e+09</td>\n",
       "      <td>900.000000</td>\n",
       "      <td>9767.000000</td>\n",
       "      <td>9.200000</td>\n",
       "      <td>2015.000000</td>\n",
       "      <td>4.250000e+08</td>\n",
       "      <td>2.827124e+09</td>\n",
       "    </tr>\n",
       "  </tbody>\n",
       "</table>\n",
       "</div>"
      ],
      "text/plain": [
       "                  id    popularity        budget       revenue       runtime  \\\n",
       "count   10866.000000  10866.000000  1.086600e+04  1.086600e+04  10866.000000   \n",
       "mean    66064.177434      0.646441  1.462570e+07  3.982332e+07    102.070863   \n",
       "std     92130.136561      1.000185  3.091321e+07  1.170035e+08     31.381405   \n",
       "min         5.000000      0.000065  0.000000e+00  0.000000e+00      0.000000   \n",
       "25%     10596.250000      0.207583  0.000000e+00  0.000000e+00     90.000000   \n",
       "50%     20669.000000      0.383856  0.000000e+00  0.000000e+00     99.000000   \n",
       "75%     75610.000000      0.713817  1.500000e+07  2.400000e+07    111.000000   \n",
       "max    417859.000000     32.985763  4.250000e+08  2.781506e+09    900.000000   \n",
       "\n",
       "         vote_count  vote_average  release_year    budget_adj   revenue_adj  \n",
       "count  10866.000000  10866.000000  10866.000000  1.086600e+04  1.086600e+04  \n",
       "mean     217.389748      5.974922   2001.322658  1.755104e+07  5.136436e+07  \n",
       "std      575.619058      0.935142     12.812941  3.430616e+07  1.446325e+08  \n",
       "min       10.000000      1.500000   1960.000000  0.000000e+00  0.000000e+00  \n",
       "25%       17.000000      5.400000   1995.000000  0.000000e+00  0.000000e+00  \n",
       "50%       38.000000      6.000000   2006.000000  0.000000e+00  0.000000e+00  \n",
       "75%      145.750000      6.600000   2011.000000  2.085325e+07  3.369710e+07  \n",
       "max     9767.000000      9.200000   2015.000000  4.250000e+08  2.827124e+09  "
      ]
     },
     "execution_count": 49,
     "metadata": {},
     "output_type": "execute_result"
    }
   ],
   "source": [
    "# Characteristics of some integers or floats columns in the raw data\n",
    "df_m.describe()"
   ]
  },
  {
   "cell_type": "markdown",
   "metadata": {},
   "source": [
    "We see that the biggest number of _populariry_ is 32.985763 and the smallest is 0.000065 with the average of 0.646441.\n",
    "The maximum of revenue is at `2.78115000000009` with the maximum budget is at `4.2500000008`.\n",
    "The release year column shows that the recent year is _2015_ and the old year is _1960_. This makes sence as we descibe in the introduction."
   ]
  },
  {
   "cell_type": "markdown",
   "metadata": {},
   "source": [
    "### Data Cleaning (Clean the database to remain with the important elements for further analysis)"
   ]
  },
  {
   "cell_type": "code",
   "execution_count": 55,
   "metadata": {},
   "outputs": [],
   "source": [
    "# Remove the unnecessary columns\n",
    "df_m.drop(['imdb_id', 'id', 'cast', 'homepage', 'budget_adj', 'tagline', 'keywords', 'overview', \n",
    "           'vote_count', 'runtime', 'production_companies', 'revenue_adj', 'release_date'], axis = 1, inplace = True)"
   ]
  },
  {
   "cell_type": "code",
   "execution_count": 56,
   "metadata": {},
   "outputs": [],
   "source": [
    "# Remove all Null values in the rows\n",
    "df_m.dropna(inplace = True)"
   ]
  },
  {
   "cell_type": "code",
   "execution_count": 57,
   "metadata": {},
   "outputs": [
    {
     "data": {
      "text/html": [
       "<div>\n",
       "<style scoped>\n",
       "    .dataframe tbody tr th:only-of-type {\n",
       "        vertical-align: middle;\n",
       "    }\n",
       "\n",
       "    .dataframe tbody tr th {\n",
       "        vertical-align: top;\n",
       "    }\n",
       "\n",
       "    .dataframe thead th {\n",
       "        text-align: right;\n",
       "    }\n",
       "</style>\n",
       "<table border=\"1\" class=\"dataframe\">\n",
       "  <thead>\n",
       "    <tr style=\"text-align: right;\">\n",
       "      <th></th>\n",
       "      <th>popularity</th>\n",
       "      <th>budget</th>\n",
       "      <th>revenue</th>\n",
       "      <th>original_title</th>\n",
       "      <th>director</th>\n",
       "      <th>genres</th>\n",
       "      <th>vote_average</th>\n",
       "      <th>release_year</th>\n",
       "    </tr>\n",
       "  </thead>\n",
       "  <tbody>\n",
       "    <tr>\n",
       "      <th>0</th>\n",
       "      <td>32.985763</td>\n",
       "      <td>150000000</td>\n",
       "      <td>1513528810</td>\n",
       "      <td>Jurassic World</td>\n",
       "      <td>Colin Trevorrow</td>\n",
       "      <td>Action|Adventure|Science Fiction|Thriller</td>\n",
       "      <td>6.5</td>\n",
       "      <td>2015</td>\n",
       "    </tr>\n",
       "    <tr>\n",
       "      <th>1</th>\n",
       "      <td>28.419936</td>\n",
       "      <td>150000000</td>\n",
       "      <td>378436354</td>\n",
       "      <td>Mad Max: Fury Road</td>\n",
       "      <td>George Miller</td>\n",
       "      <td>Action|Adventure|Science Fiction|Thriller</td>\n",
       "      <td>7.1</td>\n",
       "      <td>2015</td>\n",
       "    </tr>\n",
       "    <tr>\n",
       "      <th>2</th>\n",
       "      <td>13.112507</td>\n",
       "      <td>110000000</td>\n",
       "      <td>295238201</td>\n",
       "      <td>Insurgent</td>\n",
       "      <td>Robert Schwentke</td>\n",
       "      <td>Adventure|Science Fiction|Thriller</td>\n",
       "      <td>6.3</td>\n",
       "      <td>2015</td>\n",
       "    </tr>\n",
       "    <tr>\n",
       "      <th>3</th>\n",
       "      <td>11.173104</td>\n",
       "      <td>200000000</td>\n",
       "      <td>2068178225</td>\n",
       "      <td>Star Wars: The Force Awakens</td>\n",
       "      <td>J.J. Abrams</td>\n",
       "      <td>Action|Adventure|Science Fiction|Fantasy</td>\n",
       "      <td>7.5</td>\n",
       "      <td>2015</td>\n",
       "    </tr>\n",
       "    <tr>\n",
       "      <th>4</th>\n",
       "      <td>9.335014</td>\n",
       "      <td>190000000</td>\n",
       "      <td>1506249360</td>\n",
       "      <td>Furious 7</td>\n",
       "      <td>James Wan</td>\n",
       "      <td>Action|Crime|Thriller</td>\n",
       "      <td>7.3</td>\n",
       "      <td>2015</td>\n",
       "    </tr>\n",
       "  </tbody>\n",
       "</table>\n",
       "</div>"
      ],
      "text/plain": [
       "   popularity     budget     revenue                original_title  \\\n",
       "0   32.985763  150000000  1513528810                Jurassic World   \n",
       "1   28.419936  150000000   378436354            Mad Max: Fury Road   \n",
       "2   13.112507  110000000   295238201                     Insurgent   \n",
       "3   11.173104  200000000  2068178225  Star Wars: The Force Awakens   \n",
       "4    9.335014  190000000  1506249360                     Furious 7   \n",
       "\n",
       "           director                                     genres  vote_average  \\\n",
       "0   Colin Trevorrow  Action|Adventure|Science Fiction|Thriller           6.5   \n",
       "1     George Miller  Action|Adventure|Science Fiction|Thriller           7.1   \n",
       "2  Robert Schwentke         Adventure|Science Fiction|Thriller           6.3   \n",
       "3       J.J. Abrams   Action|Adventure|Science Fiction|Fantasy           7.5   \n",
       "4         James Wan                      Action|Crime|Thriller           7.3   \n",
       "\n",
       "   release_year  \n",
       "0          2015  \n",
       "1          2015  \n",
       "2          2015  \n",
       "3          2015  \n",
       "4          2015  "
      ]
     },
     "execution_count": 57,
     "metadata": {},
     "output_type": "execute_result"
    }
   ],
   "source": [
    "# Check for the changes\n",
    "df_m.head()"
   ]
  },
  {
   "cell_type": "code",
   "execution_count": 58,
   "metadata": {},
   "outputs": [],
   "source": [
    "# Rename some columns that are a little bit hard to understand\n",
    "df_m.rename(columns={'original_title': 'title', 'vote_average': 'ratings'}, inplace = True)"
   ]
  },
  {
   "cell_type": "code",
   "execution_count": 59,
   "metadata": {},
   "outputs": [
    {
     "name": "stdout",
     "output_type": "stream",
     "text": [
      "<class 'pandas.core.frame.DataFrame'>\n",
      "Int64Index: 10801 entries, 0 to 10865\n",
      "Data columns (total 8 columns):\n",
      " #   Column        Non-Null Count  Dtype  \n",
      "---  ------        --------------  -----  \n",
      " 0   popularity    10801 non-null  float64\n",
      " 1   budget        10801 non-null  int64  \n",
      " 2   revenue       10801 non-null  int64  \n",
      " 3   title         10801 non-null  object \n",
      " 4   director      10801 non-null  object \n",
      " 5   genres        10801 non-null  object \n",
      " 6   ratings       10801 non-null  float64\n",
      " 7   release_year  10801 non-null  int64  \n",
      "dtypes: float64(2), int64(3), object(3)\n",
      "memory usage: 759.4+ KB\n"
     ]
    }
   ],
   "source": [
    "### Check for changes\n",
    "df_m.info()"
   ]
  },
  {
   "cell_type": "markdown",
   "metadata": {},
   "source": [
    "After some few recent changes above, we have now 10801 rows and 8 columns. The dataste seems to show no null values in it but we will have to check that out to be sure. we will do this later!"
   ]
  },
  {
   "cell_type": "code",
   "execution_count": 60,
   "metadata": {},
   "outputs": [],
   "source": [
    "# Let's arange the column in a simple way to use\n",
    "df_m = df_m.reindex(columns = ['title', 'release_year', 'genres', 'director', 'popularity', \n",
    "                              'ratings', 'budget', 'revenue'])"
   ]
  },
  {
   "cell_type": "code",
   "execution_count": 61,
   "metadata": {
    "scrolled": true
   },
   "outputs": [
    {
     "data": {
      "text/plain": [
       "1"
      ]
     },
     "execution_count": 61,
     "metadata": {},
     "output_type": "execute_result"
    }
   ],
   "source": [
    "# check for number of duplicates in the dataset\n",
    "df_m.duplicated().sum()"
   ]
  },
  {
   "cell_type": "markdown",
   "metadata": {},
   "source": [
    "The dataset comes up with 1 duplicate. However, as we said earlier, The number of unique values in the **title** columns is supposed to identical with the number of rows in the dataset because we want to have unique movies in the dataset. We will observe and clean this issue soon."
   ]
  },
  {
   "cell_type": "code",
   "execution_count": 62,
   "metadata": {},
   "outputs": [],
   "source": [
    "# Remove the duplicated column\n",
    "df_m.drop_duplicates(inplace = True)"
   ]
  },
  {
   "cell_type": "code",
   "execution_count": 63,
   "metadata": {},
   "outputs": [
    {
     "data": {
      "text/plain": [
       "False"
      ]
     },
     "execution_count": 63,
     "metadata": {},
     "output_type": "execute_result"
    }
   ],
   "source": [
    "# Chek if there is still the duplicated, the result should be 'false' to mean no duplicates\n",
    "df_m.duplicated().any()"
   ]
  },
  {
   "cell_type": "code",
   "execution_count": 64,
   "metadata": {},
   "outputs": [
    {
     "data": {
      "text/plain": [
       "title           10507\n",
       "release_year       56\n",
       "genres           2031\n",
       "director         5056\n",
       "popularity      10750\n",
       "ratings            71\n",
       "budget            556\n",
       "revenue          4702\n",
       "dtype: int64"
      ]
     },
     "execution_count": 64,
     "metadata": {},
     "output_type": "execute_result"
    }
   ],
   "source": [
    "# check for the changes\n",
    "df_m.nunique()"
   ]
  },
  {
   "cell_type": "code",
   "execution_count": 65,
   "metadata": {},
   "outputs": [
    {
     "data": {
      "text/plain": [
       "293"
      ]
     },
     "execution_count": 65,
     "metadata": {},
     "output_type": "execute_result"
    }
   ],
   "source": [
    "# There might be duplicates in the movie title, let's check that out!\n",
    "df_m['title'].duplicated().sum()"
   ]
  },
  {
   "cell_type": "code",
   "execution_count": 66,
   "metadata": {},
   "outputs": [],
   "source": [
    "# We drop the duplicated in the movie title\n",
    "df_m.drop_duplicates(subset = ['title'], inplace = True)"
   ]
  },
  {
   "cell_type": "code",
   "execution_count": 67,
   "metadata": {},
   "outputs": [
    {
     "name": "stdout",
     "output_type": "stream",
     "text": [
      "<class 'pandas.core.frame.DataFrame'>\n",
      "Int64Index: 10507 entries, 0 to 10865\n",
      "Data columns (total 8 columns):\n",
      " #   Column        Non-Null Count  Dtype  \n",
      "---  ------        --------------  -----  \n",
      " 0   title         10507 non-null  object \n",
      " 1   release_year  10507 non-null  int64  \n",
      " 2   genres        10507 non-null  object \n",
      " 3   director      10507 non-null  object \n",
      " 4   popularity    10507 non-null  float64\n",
      " 5   ratings       10507 non-null  float64\n",
      " 6   budget        10507 non-null  int64  \n",
      " 7   revenue       10507 non-null  int64  \n",
      "dtypes: float64(2), int64(3), object(3)\n",
      "memory usage: 738.8+ KB\n"
     ]
    }
   ],
   "source": [
    "# Check for changes\n",
    "df_m.info()"
   ]
  },
  {
   "cell_type": "markdown",
   "metadata": {},
   "source": [
    "After doing all the cleaning above, we are confident that our data is now clean in the way we want in order to prepare for the exploratory analysis. We end up being in need of 8 columns by ordering them as follow, _1. title, 2. release_year, 3. genres, 4. director, 5. ratings (was avarage_vote column in the raw data), 6. budget and revenue_. This column reorganisation allow the table to be concise for analyis and easy to read."
   ]
  },
  {
   "cell_type": "code",
   "execution_count": 68,
   "metadata": {},
   "outputs": [],
   "source": [
    "# Save the clean data to cvs for later use\n",
    "df_m.to_csv('clean_tmbd_mv.csv', index = False)"
   ]
  },
  {
   "cell_type": "markdown",
   "metadata": {},
   "source": [
    "<a id='eda'></a>\n",
    "## Exploratory Data Analysis"
   ]
  },
  {
   "cell_type": "code",
   "execution_count": 5,
   "metadata": {},
   "outputs": [
    {
     "data": {
      "text/html": [
       "<div>\n",
       "<style scoped>\n",
       "    .dataframe tbody tr th:only-of-type {\n",
       "        vertical-align: middle;\n",
       "    }\n",
       "\n",
       "    .dataframe tbody tr th {\n",
       "        vertical-align: top;\n",
       "    }\n",
       "\n",
       "    .dataframe thead th {\n",
       "        text-align: right;\n",
       "    }\n",
       "</style>\n",
       "<table border=\"1\" class=\"dataframe\">\n",
       "  <thead>\n",
       "    <tr style=\"text-align: right;\">\n",
       "      <th></th>\n",
       "      <th>title</th>\n",
       "      <th>release_year</th>\n",
       "      <th>genres</th>\n",
       "      <th>director</th>\n",
       "      <th>popularity</th>\n",
       "      <th>ratings</th>\n",
       "      <th>budget</th>\n",
       "      <th>revenue</th>\n",
       "    </tr>\n",
       "  </thead>\n",
       "  <tbody>\n",
       "    <tr>\n",
       "      <th>0</th>\n",
       "      <td>Jurassic World</td>\n",
       "      <td>2015</td>\n",
       "      <td>Action|Adventure|Science Fiction|Thriller</td>\n",
       "      <td>Colin Trevorrow</td>\n",
       "      <td>32.985763</td>\n",
       "      <td>6.5</td>\n",
       "      <td>150000000</td>\n",
       "      <td>1513528810</td>\n",
       "    </tr>\n",
       "    <tr>\n",
       "      <th>1</th>\n",
       "      <td>Mad Max: Fury Road</td>\n",
       "      <td>2015</td>\n",
       "      <td>Action|Adventure|Science Fiction|Thriller</td>\n",
       "      <td>George Miller</td>\n",
       "      <td>28.419936</td>\n",
       "      <td>7.1</td>\n",
       "      <td>150000000</td>\n",
       "      <td>378436354</td>\n",
       "    </tr>\n",
       "    <tr>\n",
       "      <th>2</th>\n",
       "      <td>Insurgent</td>\n",
       "      <td>2015</td>\n",
       "      <td>Adventure|Science Fiction|Thriller</td>\n",
       "      <td>Robert Schwentke</td>\n",
       "      <td>13.112507</td>\n",
       "      <td>6.3</td>\n",
       "      <td>110000000</td>\n",
       "      <td>295238201</td>\n",
       "    </tr>\n",
       "  </tbody>\n",
       "</table>\n",
       "</div>"
      ],
      "text/plain": [
       "                title  release_year  \\\n",
       "0      Jurassic World          2015   \n",
       "1  Mad Max: Fury Road          2015   \n",
       "2           Insurgent          2015   \n",
       "\n",
       "                                      genres          director  popularity  \\\n",
       "0  Action|Adventure|Science Fiction|Thriller   Colin Trevorrow   32.985763   \n",
       "1  Action|Adventure|Science Fiction|Thriller     George Miller   28.419936   \n",
       "2         Adventure|Science Fiction|Thriller  Robert Schwentke   13.112507   \n",
       "\n",
       "   ratings     budget     revenue  \n",
       "0      6.5  150000000  1513528810  \n",
       "1      7.1  150000000   378436354  \n",
       "2      6.3  110000000   295238201  "
      ]
     },
     "execution_count": 5,
     "metadata": {},
     "output_type": "execute_result"
    }
   ],
   "source": [
    "# load the cleaned dataset and read the first row\n",
    "df_m = pd.read_csv(\"clean_tmbd_mv.csv\")\n",
    "df_m.head(3)"
   ]
  },
  {
   "cell_type": "code",
   "execution_count": 6,
   "metadata": {},
   "outputs": [],
   "source": [
    "# A variable that generally gives the size of each plot throught this analysis\n",
    "graph_size = plt.figsize = (10, 8)"
   ]
  },
  {
   "cell_type": "markdown",
   "metadata": {},
   "source": [
    "### Research Question 1  (Which 10 movie genres have the most revenue)"
   ]
  },
  {
   "cell_type": "code",
   "execution_count": 7,
   "metadata": {},
   "outputs": [
    {
     "data": {
      "text/plain": [
       "True"
      ]
     },
     "execution_count": 7,
     "metadata": {},
     "output_type": "execute_result"
    }
   ],
   "source": [
    "# Check if there is any row in the genres column that has the '|' character\n",
    "cast_gen = df_m['genres'].str.contains('|').any()\n",
    "cast_gen"
   ]
  },
  {
   "cell_type": "code",
   "execution_count": 8,
   "metadata": {},
   "outputs": [],
   "source": [
    "# split each genres separated by |\n",
    "each_gen = df_m.assign(gen = df_m['genres'].str.split('|')).explode('gen')"
   ]
  },
  {
   "cell_type": "code",
   "execution_count": 9,
   "metadata": {
    "scrolled": true
   },
   "outputs": [
    {
     "data": {
      "text/html": [
       "<div>\n",
       "<style scoped>\n",
       "    .dataframe tbody tr th:only-of-type {\n",
       "        vertical-align: middle;\n",
       "    }\n",
       "\n",
       "    .dataframe tbody tr th {\n",
       "        vertical-align: top;\n",
       "    }\n",
       "\n",
       "    .dataframe thead th {\n",
       "        text-align: right;\n",
       "    }\n",
       "</style>\n",
       "<table border=\"1\" class=\"dataframe\">\n",
       "  <thead>\n",
       "    <tr style=\"text-align: right;\">\n",
       "      <th></th>\n",
       "      <th>title</th>\n",
       "      <th>release_year</th>\n",
       "      <th>genres</th>\n",
       "      <th>director</th>\n",
       "      <th>popularity</th>\n",
       "      <th>ratings</th>\n",
       "      <th>budget</th>\n",
       "      <th>revenue</th>\n",
       "      <th>gen</th>\n",
       "    </tr>\n",
       "  </thead>\n",
       "  <tbody>\n",
       "    <tr>\n",
       "      <th>0</th>\n",
       "      <td>Jurassic World</td>\n",
       "      <td>2015</td>\n",
       "      <td>Action|Adventure|Science Fiction|Thriller</td>\n",
       "      <td>Colin Trevorrow</td>\n",
       "      <td>32.985763</td>\n",
       "      <td>6.5</td>\n",
       "      <td>150000000</td>\n",
       "      <td>1513528810</td>\n",
       "      <td>Action</td>\n",
       "    </tr>\n",
       "    <tr>\n",
       "      <th>0</th>\n",
       "      <td>Jurassic World</td>\n",
       "      <td>2015</td>\n",
       "      <td>Action|Adventure|Science Fiction|Thriller</td>\n",
       "      <td>Colin Trevorrow</td>\n",
       "      <td>32.985763</td>\n",
       "      <td>6.5</td>\n",
       "      <td>150000000</td>\n",
       "      <td>1513528810</td>\n",
       "      <td>Adventure</td>\n",
       "    </tr>\n",
       "    <tr>\n",
       "      <th>0</th>\n",
       "      <td>Jurassic World</td>\n",
       "      <td>2015</td>\n",
       "      <td>Action|Adventure|Science Fiction|Thriller</td>\n",
       "      <td>Colin Trevorrow</td>\n",
       "      <td>32.985763</td>\n",
       "      <td>6.5</td>\n",
       "      <td>150000000</td>\n",
       "      <td>1513528810</td>\n",
       "      <td>Science Fiction</td>\n",
       "    </tr>\n",
       "    <tr>\n",
       "      <th>0</th>\n",
       "      <td>Jurassic World</td>\n",
       "      <td>2015</td>\n",
       "      <td>Action|Adventure|Science Fiction|Thriller</td>\n",
       "      <td>Colin Trevorrow</td>\n",
       "      <td>32.985763</td>\n",
       "      <td>6.5</td>\n",
       "      <td>150000000</td>\n",
       "      <td>1513528810</td>\n",
       "      <td>Thriller</td>\n",
       "    </tr>\n",
       "    <tr>\n",
       "      <th>1</th>\n",
       "      <td>Mad Max: Fury Road</td>\n",
       "      <td>2015</td>\n",
       "      <td>Action|Adventure|Science Fiction|Thriller</td>\n",
       "      <td>George Miller</td>\n",
       "      <td>28.419936</td>\n",
       "      <td>7.1</td>\n",
       "      <td>150000000</td>\n",
       "      <td>378436354</td>\n",
       "      <td>Action</td>\n",
       "    </tr>\n",
       "  </tbody>\n",
       "</table>\n",
       "</div>"
      ],
      "text/plain": [
       "                title  release_year  \\\n",
       "0      Jurassic World          2015   \n",
       "0      Jurassic World          2015   \n",
       "0      Jurassic World          2015   \n",
       "0      Jurassic World          2015   \n",
       "1  Mad Max: Fury Road          2015   \n",
       "\n",
       "                                      genres         director  popularity  \\\n",
       "0  Action|Adventure|Science Fiction|Thriller  Colin Trevorrow   32.985763   \n",
       "0  Action|Adventure|Science Fiction|Thriller  Colin Trevorrow   32.985763   \n",
       "0  Action|Adventure|Science Fiction|Thriller  Colin Trevorrow   32.985763   \n",
       "0  Action|Adventure|Science Fiction|Thriller  Colin Trevorrow   32.985763   \n",
       "1  Action|Adventure|Science Fiction|Thriller    George Miller   28.419936   \n",
       "\n",
       "   ratings     budget     revenue              gen  \n",
       "0      6.5  150000000  1513528810           Action  \n",
       "0      6.5  150000000  1513528810        Adventure  \n",
       "0      6.5  150000000  1513528810  Science Fiction  \n",
       "0      6.5  150000000  1513528810         Thriller  \n",
       "1      7.1  150000000   378436354           Action  "
      ]
     },
     "execution_count": 9,
     "metadata": {},
     "output_type": "execute_result"
    }
   ],
   "source": [
    "each_gen.head()"
   ]
  },
  {
   "cell_type": "markdown",
   "metadata": {},
   "source": [
    "we have just created a temporaty dataset that has one more new column (the `gen` column). However, the orgiginal dataset still has its same column."
   ]
  },
  {
   "cell_type": "code",
   "execution_count": 79,
   "metadata": {},
   "outputs": [
    {
     "data": {
      "text/html": [
       "<div>\n",
       "<style scoped>\n",
       "    .dataframe tbody tr th:only-of-type {\n",
       "        vertical-align: middle;\n",
       "    }\n",
       "\n",
       "    .dataframe tbody tr th {\n",
       "        vertical-align: top;\n",
       "    }\n",
       "\n",
       "    .dataframe thead th {\n",
       "        text-align: right;\n",
       "    }\n",
       "</style>\n",
       "<table border=\"1\" class=\"dataframe\">\n",
       "  <thead>\n",
       "    <tr style=\"text-align: right;\">\n",
       "      <th></th>\n",
       "      <th>title</th>\n",
       "      <th>release_year</th>\n",
       "      <th>genres</th>\n",
       "      <th>director</th>\n",
       "      <th>popularity</th>\n",
       "      <th>ratings</th>\n",
       "      <th>budget</th>\n",
       "      <th>revenue</th>\n",
       "      <th>profit</th>\n",
       "    </tr>\n",
       "  </thead>\n",
       "  <tbody>\n",
       "    <tr>\n",
       "      <th>0</th>\n",
       "      <td>Jurassic World</td>\n",
       "      <td>2015</td>\n",
       "      <td>Action|Adventure|Science Fiction|Thriller</td>\n",
       "      <td>Colin Trevorrow</td>\n",
       "      <td>32.985763</td>\n",
       "      <td>6.5</td>\n",
       "      <td>150000000</td>\n",
       "      <td>1513528810</td>\n",
       "      <td>1363528810</td>\n",
       "    </tr>\n",
       "    <tr>\n",
       "      <th>1</th>\n",
       "      <td>Mad Max: Fury Road</td>\n",
       "      <td>2015</td>\n",
       "      <td>Action|Adventure|Science Fiction|Thriller</td>\n",
       "      <td>George Miller</td>\n",
       "      <td>28.419936</td>\n",
       "      <td>7.1</td>\n",
       "      <td>150000000</td>\n",
       "      <td>378436354</td>\n",
       "      <td>228436354</td>\n",
       "    </tr>\n",
       "    <tr>\n",
       "      <th>2</th>\n",
       "      <td>Insurgent</td>\n",
       "      <td>2015</td>\n",
       "      <td>Adventure|Science Fiction|Thriller</td>\n",
       "      <td>Robert Schwentke</td>\n",
       "      <td>13.112507</td>\n",
       "      <td>6.3</td>\n",
       "      <td>110000000</td>\n",
       "      <td>295238201</td>\n",
       "      <td>185238201</td>\n",
       "    </tr>\n",
       "    <tr>\n",
       "      <th>3</th>\n",
       "      <td>Star Wars: The Force Awakens</td>\n",
       "      <td>2015</td>\n",
       "      <td>Action|Adventure|Science Fiction|Fantasy</td>\n",
       "      <td>J.J. Abrams</td>\n",
       "      <td>11.173104</td>\n",
       "      <td>7.5</td>\n",
       "      <td>200000000</td>\n",
       "      <td>2068178225</td>\n",
       "      <td>1868178225</td>\n",
       "    </tr>\n",
       "    <tr>\n",
       "      <th>4</th>\n",
       "      <td>Furious 7</td>\n",
       "      <td>2015</td>\n",
       "      <td>Action|Crime|Thriller</td>\n",
       "      <td>James Wan</td>\n",
       "      <td>9.335014</td>\n",
       "      <td>7.3</td>\n",
       "      <td>190000000</td>\n",
       "      <td>1506249360</td>\n",
       "      <td>1316249360</td>\n",
       "    </tr>\n",
       "  </tbody>\n",
       "</table>\n",
       "</div>"
      ],
      "text/plain": [
       "                          title  release_year  \\\n",
       "0                Jurassic World          2015   \n",
       "1            Mad Max: Fury Road          2015   \n",
       "2                     Insurgent          2015   \n",
       "3  Star Wars: The Force Awakens          2015   \n",
       "4                     Furious 7          2015   \n",
       "\n",
       "                                      genres          director  popularity  \\\n",
       "0  Action|Adventure|Science Fiction|Thriller   Colin Trevorrow   32.985763   \n",
       "1  Action|Adventure|Science Fiction|Thriller     George Miller   28.419936   \n",
       "2         Adventure|Science Fiction|Thriller  Robert Schwentke   13.112507   \n",
       "3   Action|Adventure|Science Fiction|Fantasy       J.J. Abrams   11.173104   \n",
       "4                      Action|Crime|Thriller         James Wan    9.335014   \n",
       "\n",
       "   ratings     budget     revenue      profit  \n",
       "0      6.5  150000000  1513528810  1363528810  \n",
       "1      7.1  150000000   378436354   228436354  \n",
       "2      6.3  110000000   295238201   185238201  \n",
       "3      7.5  200000000  2068178225  1868178225  \n",
       "4      7.3  190000000  1506249360  1316249360  "
      ]
     },
     "execution_count": 79,
     "metadata": {},
     "output_type": "execute_result"
    }
   ],
   "source": [
    "# Let's check that out\n",
    "df_m.head()"
   ]
  },
  {
   "cell_type": "code",
   "execution_count": 11,
   "metadata": {},
   "outputs": [
    {
     "data": {
      "text/plain": [
       "(26061, 9)"
      ]
     },
     "execution_count": 11,
     "metadata": {},
     "output_type": "execute_result"
    }
   ],
   "source": [
    "# check if the number of rows and columns have increased\n",
    "each_gen.shape"
   ]
  },
  {
   "cell_type": "code",
   "execution_count": 17,
   "metadata": {},
   "outputs": [],
   "source": [
    "# Group each genre by revenue and sort the value in descending order so we can get to most revenues genre\n",
    "most_rev_gen = each_gen.groupby(['gen'])['revenue'].sum().sort_values(ascending = False)"
   ]
  },
  {
   "cell_type": "code",
   "execution_count": 120,
   "metadata": {},
   "outputs": [
    {
     "data": {
      "text/plain": [
       "Text(0, 0.5, 'Top 10 Genres')"
      ]
     },
     "execution_count": 120,
     "metadata": {},
     "output_type": "execute_result"
    },
    {
     "data": {
      "image/png": "[encoded data removed]",
      "text/plain": [
       "<Figure size 720x432 with 1 Axes>"
      ]
     },
     "metadata": {
      "needs_background": "light"
     },
     "output_type": "display_data"
    }
   ],
   "source": [
    "# Let's plot the top 10 movie genres with the most revenue\n",
    "most_rev_gen.iloc[:10].plot(kind = 'barh', color = 'darkgreen', figsize = graph_size)\n",
    "plt.title(\"Top 10 movie genres with the most revenue\", fontsize = 18)\n",
    "plt.xlabel(\"Revenue\", fontsize = 14)\n",
    "plt.ylabel(\"Top 10 Genres\", fontsize = 14)"
   ]
  },
  {
   "cell_type": "markdown",
   "metadata": {},
   "source": [
    "The top 10 movie genres are shown in the graph above in the oder: 1. Action, 2. Adventure, 3. Comedy, 4. Drama, 5. Thriller, 6. Fantasy, 7. Familly, 8. Science Fiction, 9. Romance, 10. Crime.\n",
    "\n",
    "The most liked movi genre is `Action`."
   ]
  },
  {
   "cell_type": "markdown",
   "metadata": {},
   "source": [
    "### Classification\n",
    "The same way we get the top 10 movie genres with the most revenue, we can also view the top **10 movies** with the most:\n",
    "- Revenue\n",
    "- Profit\n",
    "- Buget\n",
    "- Ratings\n",
    "- Popularity"
   ]
  },
  {
   "cell_type": "code",
   "execution_count": 78,
   "metadata": {},
   "outputs": [],
   "source": [
    "df_m['profit'] = df_m['revenue'] - df_m['budget']"
   ]
  },
  {
   "cell_type": "code",
   "execution_count": 83,
   "metadata": {},
   "outputs": [],
   "source": [
    "# define a funtion for the plots of this reseach quetion\n",
    "def plot_most(column, top = 10):\n",
    "    sort_df = pd.DataFrame(df_m[column].sort_values(ascending=False))[:top]\n",
    "    sort_df['title'] = df_m['title']\n",
    "    plt.figure(figsize = (10, 8))\n",
    "    sns.barplot(x = column, y = 'title', data= sort_df, label = column)\n",
    "    if (column == 'profit' or column == 'budget' or column == 'revenue' or column == 'popularity', column == 'ratings'):\n",
    "        plt.xlabel(column.capitalize() + ' $')\n",
    "    else:\n",
    "        plt.xlabel(column.capitalize())\n",
    "    plt.ylabel('')\n",
    "    plt.title('Top 10 Movies in with the most ' + column.capitalize())\n",
    "    plt.legend()"
   ]
  },
  {
   "cell_type": "code",
   "execution_count": 84,
   "metadata": {},
   "outputs": [
    {
     "data": {
      "image/png": "[encoded data removed]",
      "text/plain": [
       "<Figure size 720x576 with 1 Axes>"
      ]
     },
     "metadata": {
      "needs_background": "light"
     },
     "output_type": "display_data"
    }
   ],
   "source": [
    "plot_most('revenue')"
   ]
  },
  {
   "cell_type": "code",
   "execution_count": 87,
   "metadata": {},
   "outputs": [
    {
     "data": {
      "image/png": "[encoded data removed]",
      "text/plain": [
       "<Figure size 720x576 with 1 Axes>"
      ]
     },
     "metadata": {
      "needs_background": "light"
     },
     "output_type": "display_data"
    }
   ],
   "source": [
    "plot_most('profit')"
   ]
  },
  {
   "cell_type": "code",
   "execution_count": 88,
   "metadata": {},
   "outputs": [
    {
     "data": {
      "image/png": "[encoded data removed]",
      "text/plain": [
       "<Figure size 720x576 with 1 Axes>"
      ]
     },
     "metadata": {
      "needs_background": "light"
     },
     "output_type": "display_data"
    }
   ],
   "source": [
    "plot_most('budget')"
   ]
  },
  {
   "cell_type": "code",
   "execution_count": 90,
   "metadata": {},
   "outputs": [
    {
     "data": {
      "image/png": "[encoded data removed]",
      "text/plain": [
       "<Figure size 720x576 with 1 Axes>"
      ]
     },
     "metadata": {
      "needs_background": "light"
     },
     "output_type": "display_data"
    }
   ],
   "source": [
    "plot_most('ratings')"
   ]
  },
  {
   "cell_type": "code",
   "execution_count": 86,
   "metadata": {},
   "outputs": [
    {
     "data": {
      "image/png": "[encoded data removed]",
      "text/plain": [
       "<Figure size 720x576 with 1 Axes>"
      ]
     },
     "metadata": {
      "needs_background": "light"
     },
     "output_type": "display_data"
    }
   ],
   "source": [
    "plot_most('popularity')"
   ]
  },
  {
   "cell_type": "markdown",
   "metadata": {},
   "source": [
    "By Viewing the 4 above plots, we can conclude that, only the revenue and profit seem to work along. This is perfectly meaningful sisng the both are always depedent."
   ]
  },
  {
   "cell_type": "markdown",
   "metadata": {},
   "source": [
    "### Research Question 2 (What are the top 10 most successful movie directors?)"
   ]
  },
  {
   "cell_type": "code",
   "execution_count": 82,
   "metadata": {},
   "outputs": [
    {
     "data": {
      "text/plain": [
       "True"
      ]
     },
     "execution_count": 82,
     "metadata": {},
     "output_type": "execute_result"
    }
   ],
   "source": [
    "# Let's check if the column direcore contains names separated by the '|' character\n",
    "# It must result True if there is any row with it\n",
    "df_m['director'].str.contains('|').any()"
   ]
  },
  {
   "cell_type": "code",
   "execution_count": 92,
   "metadata": {},
   "outputs": [],
   "source": [
    "# We split the row having the | character\n",
    "each_direc = df_m.assign(direc = df_m['director'].str.split('|')).explode('direc')"
   ]
  },
  {
   "cell_type": "code",
   "execution_count": 93,
   "metadata": {},
   "outputs": [
    {
     "data": {
      "text/plain": [
       "(11527, 9)"
      ]
     },
     "execution_count": 93,
     "metadata": {},
     "output_type": "execute_result"
    }
   ],
   "source": [
    "# See how the number of rows have augmented\n",
    "each_direc.shape"
   ]
  },
  {
   "cell_type": "code",
   "execution_count": 121,
   "metadata": {},
   "outputs": [],
   "source": [
    "# Group each director by ratings and sort the ratings so we can get to most successful director\n",
    "# the rating must be in ascending false so that it can describe the most successfull\n",
    "most_direc = each_direc.groupby('direc')['ratings'].sum().sort_values(ascending = False)"
   ]
  },
  {
   "cell_type": "code",
   "execution_count": 122,
   "metadata": {},
   "outputs": [
    {
     "data": {
      "text/plain": [
       "Text(0, 0.5, 'Ratings')"
      ]
     },
     "execution_count": 122,
     "metadata": {},
     "output_type": "execute_result"
    },
    {
     "data": {
      "image/png": "[encoded data removed]",
      "text/plain": [
       "<Figure size 720x432 with 1 Axes>"
      ]
     },
     "metadata": {
      "needs_background": "light"
     },
     "output_type": "display_data"
    }
   ],
   "source": [
    "most_direc.iloc[:10].plot(kind = 'bar', color = 'orange', figsize = graph_size)\n",
    "plt.title(\"Top 10 most successful direcore over the years\", fontsize = 18)\n",
    "plt.xlabel(\"Directors\", fontsize = 15)\n",
    "plt.ylabel(\"Ratings\", fontsize = 15)"
   ]
  },
  {
   "cell_type": "markdown",
   "metadata": {},
   "source": [
    "In the graph above, we rate the most successfull movie directors based on the ratings their movies have. We can see that **Woody Allen** at first in the top 10 followed by Mr. **MArtin Scorsese** with the tenth to be Mr. **Joel Coen**. "
   ]
  },
  {
   "cell_type": "code",
   "execution_count": 125,
   "metadata": {},
   "outputs": [
    {
     "data": {
      "text/plain": [
       "Text(0, 0.5, 'Number of movies')"
      ]
     },
     "execution_count": 125,
     "metadata": {},
     "output_type": "execute_result"
    },
    {
     "data": {
      "image/png": "[encoded data removed]",
      "text/plain": [
       "<Figure size 1584x576 with 1 Axes>"
      ]
     },
     "metadata": {
      "needs_background": "light"
     },
     "output_type": "display_data"
    }
   ],
   "source": [
    "# Number of movies each year\n",
    "df_m['release_year'].value_counts().sort_values(ascending = False).plot(kind = 'bar', figsize = (22, 8))\n",
    "plt.title(\"The number of movie each year\")\n",
    "plt.xlabel(\"Years\")\n",
    "plt.ylabel(\"Number of movies\")"
   ]
  },
  {
   "cell_type": "markdown",
   "metadata": {},
   "source": [
    "The graph above shows how the number of movies each year have been increasing each year from 1960 to 2014. The more years to come the more number of movies increases. "
   ]
  },
  {
   "cell_type": "markdown",
   "metadata": {},
   "source": [
    "### Research Question 3 (What is the ralationship between the release year with the rating)"
   ]
  },
  {
   "cell_type": "code",
   "execution_count": 67,
   "metadata": {},
   "outputs": [
    {
     "data": {
      "text/plain": [
       "<matplotlib.collections.PathCollection at 0x21ae8d7ea00>"
      ]
     },
     "execution_count": 67,
     "metadata": {},
     "output_type": "execute_result"
    },
    {
     "data": {
      "image/png": "[encoded data removed]",
      "text/plain": [
       "<Figure size 432x288 with 1 Axes>"
      ]
     },
     "metadata": {
      "needs_background": "light"
     },
     "output_type": "display_data"
    }
   ],
   "source": [
    "# Handle the years in singles\n",
    "plt.scatter(x = df_m['release_year'], y = df_m['ratings'], color = \"lightblue\")"
   ]
  },
  {
   "cell_type": "markdown",
   "metadata": {},
   "source": [
    "The scatter plot above indicates that year *does not matter* for the ratings. But we can seen that **the biggest rating** was in `2010` and **the smallest rating** was in `1967` and another one in `2008`."
   ]
  },
  {
   "cell_type": "markdown",
   "metadata": {},
   "source": [
    "### Research Question 4 (What kind of properties are associeted with movies that have high revenue?)"
   ]
  },
  {
   "cell_type": "code",
   "execution_count": 74,
   "metadata": {},
   "outputs": [],
   "source": [
    "# First, need the 30 first high revenue that i will plot later\n",
    "high_rev = df_m.sort_values(by = 'revenue', ascending = False).head(30)"
   ]
  },
  {
   "cell_type": "code",
   "execution_count": 79,
   "metadata": {},
   "outputs": [
    {
     "data": {
      "text/plain": [
       "array([[<AxesSubplot:title={'center':'release_year'}>,\n",
       "        <AxesSubplot:title={'center':'popularity'}>],\n",
       "       [<AxesSubplot:title={'center':'ratings'}>,\n",
       "        <AxesSubplot:title={'center':'budget'}>],\n",
       "       [<AxesSubplot:title={'center':'revenue'}>, <AxesSubplot:>]],\n",
       "      dtype=object)"
      ]
     },
     "execution_count": 79,
     "metadata": {},
     "output_type": "execute_result"
    },
    {
     "data": {
      "image/png": "[encoded data removed]",
      "text/plain": [
       "<Figure size 720x720 with 6 Axes>"
      ]
     },
     "metadata": {
      "needs_background": "light"
     },
     "output_type": "display_data"
    }
   ],
   "source": [
    "# plot a histogram to view the properties\n",
    "high_rev.hist(figsize = (10, 10), grid = False)"
   ]
  },
  {
   "cell_type": "markdown",
   "metadata": {},
   "source": [
    "The five plots above show how the ralease_year, popularity, ratings, budget and the revenue itself are associeted the the revenue"
   ]
  },
  {
   "cell_type": "markdown",
   "metadata": {},
   "source": [
    "### Researach Question 5 (What are the top 10 most frequent genres?)"
   ]
  },
  {
   "cell_type": "code",
   "execution_count": 97,
   "metadata": {},
   "outputs": [
    {
     "data": {
      "text/plain": [
       "Drama              4618\n",
       "Comedy             3720\n",
       "Thriller           2796\n",
       "Action             2308\n",
       "Romance            1658\n",
       "Horror             1557\n",
       "Adventure          1420\n",
       "Crime              1311\n",
       "Family             1184\n",
       "Science Fiction    1182\n",
       "dtype: int64"
      ]
     },
     "execution_count": 97,
     "metadata": {},
     "output_type": "execute_result"
    }
   ],
   "source": [
    "# Getting the 10 most frequent genres\n",
    "most_fr = pd.Series(df_m['genres'].str.cat(sep = '|').split('|')).value_counts(ascending = False)\n",
    "most_fr.head(10)"
   ]
  },
  {
   "cell_type": "markdown",
   "metadata": {},
   "source": [
    "### Research Question 6 (What is the ralationship between the budget and the revenue throught the years?)"
   ]
  },
  {
   "cell_type": "code",
   "execution_count": 101,
   "metadata": {},
   "outputs": [
    {
     "data": {
      "text/plain": [
       "Text(0.5, 1.0, 'Habits of revenue to the budget')"
      ]
     },
     "execution_count": 101,
     "metadata": {},
     "output_type": "execute_result"
    },
    {
     "data": {
      "image/png": "[encoded data removed]",
      "text/plain": [
       "<Figure size 720x432 with 1 Axes>"
      ]
     },
     "metadata": {
      "needs_background": "light"
     },
     "output_type": "display_data"
    }
   ],
   "source": [
    "# Show a scatter plot demostating how the budget is with the revenue\n",
    "df_m.plot(x = 'budget', y = 'revenue', figsize = graph_size, kind = 'scatter')\n",
    "plt.title(\"Habits of revenue to the budget\", fontsize = 18)"
   ]
  },
  {
   "cell_type": "markdown",
   "metadata": {},
   "source": [
    "There is alitle positive correation between the budget and revenue"
   ]
  },
  {
   "cell_type": "code",
   "execution_count": 103,
   "metadata": {},
   "outputs": [
    {
     "data": {
      "text/html": [
       "<div>\n",
       "<style scoped>\n",
       "    .dataframe tbody tr th:only-of-type {\n",
       "        vertical-align: middle;\n",
       "    }\n",
       "\n",
       "    .dataframe tbody tr th {\n",
       "        vertical-align: top;\n",
       "    }\n",
       "\n",
       "    .dataframe thead th {\n",
       "        text-align: right;\n",
       "    }\n",
       "</style>\n",
       "<table border=\"1\" class=\"dataframe\">\n",
       "  <thead>\n",
       "    <tr style=\"text-align: right;\">\n",
       "      <th></th>\n",
       "      <th>title</th>\n",
       "      <th>budget</th>\n",
       "    </tr>\n",
       "  </thead>\n",
       "  <tbody>\n",
       "    <tr>\n",
       "      <th>2214</th>\n",
       "      <td>The Warrior's Way</td>\n",
       "      <td>425000000</td>\n",
       "    </tr>\n",
       "  </tbody>\n",
       "</table>\n",
       "</div>"
      ],
      "text/plain": [
       "                  title     budget\n",
       "2214  The Warrior's Way  425000000"
      ]
     },
     "execution_count": 103,
     "metadata": {},
     "output_type": "execute_result"
    }
   ],
   "source": [
    "# Which movie had the highest budget?\n",
    "df_high_b = df_m.sort_values(by='budget',ascending = False)\n",
    "df_high_b[['title','budget']].head(1)"
   ]
  },
  {
   "cell_type": "code",
   "execution_count": 106,
   "metadata": {},
   "outputs": [
    {
     "data": {
      "text/html": [
       "<div>\n",
       "<style scoped>\n",
       "    .dataframe tbody tr th:only-of-type {\n",
       "        vertical-align: middle;\n",
       "    }\n",
       "\n",
       "    .dataframe tbody tr th {\n",
       "        vertical-align: top;\n",
       "    }\n",
       "\n",
       "    .dataframe thead th {\n",
       "        text-align: right;\n",
       "    }\n",
       "</style>\n",
       "<table border=\"1\" class=\"dataframe\">\n",
       "  <thead>\n",
       "    <tr style=\"text-align: right;\">\n",
       "      <th></th>\n",
       "      <th>title</th>\n",
       "      <th>budget</th>\n",
       "    </tr>\n",
       "  </thead>\n",
       "  <tbody>\n",
       "    <tr>\n",
       "      <th>5781</th>\n",
       "      <td>Free Ride</td>\n",
       "      <td>0</td>\n",
       "    </tr>\n",
       "  </tbody>\n",
       "</table>\n",
       "</div>"
      ],
      "text/plain": [
       "          title  budget\n",
       "5781  Free Ride       0"
      ]
     },
     "execution_count": 106,
     "metadata": {},
     "output_type": "execute_result"
    }
   ],
   "source": [
    "# Which movie had the lowest budget?\n",
    "df_low_b = df_m.sort_values(by='budget',ascending = False)\n",
    "df_low_b[['title','budget']].tail(1)"
   ]
  },
  {
   "cell_type": "code",
   "execution_count": 108,
   "metadata": {},
   "outputs": [
    {
     "data": {
      "text/html": [
       "<div>\n",
       "<style scoped>\n",
       "    .dataframe tbody tr th:only-of-type {\n",
       "        vertical-align: middle;\n",
       "    }\n",
       "\n",
       "    .dataframe tbody tr th {\n",
       "        vertical-align: top;\n",
       "    }\n",
       "\n",
       "    .dataframe thead th {\n",
       "        text-align: right;\n",
       "    }\n",
       "</style>\n",
       "<table border=\"1\" class=\"dataframe\">\n",
       "  <thead>\n",
       "    <tr style=\"text-align: right;\">\n",
       "      <th></th>\n",
       "      <th>title</th>\n",
       "      <th>revenue</th>\n",
       "    </tr>\n",
       "  </thead>\n",
       "  <tbody>\n",
       "    <tr>\n",
       "      <th>1372</th>\n",
       "      <td>Avatar</td>\n",
       "      <td>2781505847</td>\n",
       "    </tr>\n",
       "  </tbody>\n",
       "</table>\n",
       "</div>"
      ],
      "text/plain": [
       "       title     revenue\n",
       "1372  Avatar  2781505847"
      ]
     },
     "execution_count": 108,
     "metadata": {},
     "output_type": "execute_result"
    }
   ],
   "source": [
    "# Which movie had the highest revenue?\n",
    "df_high_r = df_m.sort_values(by='revenue',ascending = False)\n",
    "df_high_r[['title','revenue']].head(1)"
   ]
  },
  {
   "cell_type": "code",
   "execution_count": 109,
   "metadata": {},
   "outputs": [
    {
     "data": {
      "text/html": [
       "<div>\n",
       "<style scoped>\n",
       "    .dataframe tbody tr th:only-of-type {\n",
       "        vertical-align: middle;\n",
       "    }\n",
       "\n",
       "    .dataframe tbody tr th {\n",
       "        vertical-align: top;\n",
       "    }\n",
       "\n",
       "    .dataframe thead th {\n",
       "        text-align: right;\n",
       "    }\n",
       "</style>\n",
       "<table border=\"1\" class=\"dataframe\">\n",
       "  <thead>\n",
       "    <tr style=\"text-align: right;\">\n",
       "      <th></th>\n",
       "      <th>title</th>\n",
       "      <th>revenue</th>\n",
       "    </tr>\n",
       "  </thead>\n",
       "  <tbody>\n",
       "    <tr>\n",
       "      <th>10506</th>\n",
       "      <td>Manos: The Hands of Fate</td>\n",
       "      <td>0</td>\n",
       "    </tr>\n",
       "  </tbody>\n",
       "</table>\n",
       "</div>"
      ],
      "text/plain": [
       "                          title  revenue\n",
       "10506  Manos: The Hands of Fate        0"
      ]
     },
     "execution_count": 109,
     "metadata": {},
     "output_type": "execute_result"
    }
   ],
   "source": [
    "# Which movie had the lowest revenue?\n",
    "df_low_r = df_m.sort_values(by='revenue',ascending = False)\n",
    "df_low_r[['title','revenue']].tail(1)"
   ]
  },
  {
   "cell_type": "code",
   "execution_count": 115,
   "metadata": {},
   "outputs": [
    {
     "data": {
      "text/plain": [
       "Text(0.5, 1.0, 'Relationship of revenue and profil')"
      ]
     },
     "execution_count": 115,
     "metadata": {},
     "output_type": "execute_result"
    },
    {
     "data": {
      "image/png": "[encoded data removed]",
      "text/plain": [
       "<Figure size 720x432 with 1 Axes>"
      ]
     },
     "metadata": {
      "needs_background": "light"
     },
     "output_type": "display_data"
    }
   ],
   "source": [
    "# Show how the revenue tends to move with the profit\n",
    "df_m.plot(x = 'revenue', y = 'profit', figsize = graph_size, kind = 'scatter')\n",
    "plt.title(\"Relationship of revenue and profil\", fontsize = 18)"
   ]
  },
  {
   "cell_type": "markdown",
   "metadata": {},
   "source": [
    "There is a positive correlation between the revenue and the profit. This makes sence because, the more revenue a movie gets the more profit it has."
   ]
  },
  {
   "cell_type": "code",
   "execution_count": 128,
   "metadata": {},
   "outputs": [
    {
     "data": {
      "text/html": [
       "<div>\n",
       "<style scoped>\n",
       "    .dataframe tbody tr th:only-of-type {\n",
       "        vertical-align: middle;\n",
       "    }\n",
       "\n",
       "    .dataframe tbody tr th {\n",
       "        vertical-align: top;\n",
       "    }\n",
       "\n",
       "    .dataframe thead th {\n",
       "        text-align: right;\n",
       "    }\n",
       "</style>\n",
       "<table border=\"1\" class=\"dataframe\">\n",
       "  <thead>\n",
       "    <tr style=\"text-align: right;\">\n",
       "      <th></th>\n",
       "      <th>title</th>\n",
       "      <th>release_year</th>\n",
       "      <th>genres</th>\n",
       "      <th>director</th>\n",
       "      <th>popularity</th>\n",
       "      <th>ratings</th>\n",
       "      <th>budget</th>\n",
       "      <th>revenue</th>\n",
       "      <th>profit</th>\n",
       "    </tr>\n",
       "  </thead>\n",
       "  <tbody>\n",
       "    <tr>\n",
       "      <th>48</th>\n",
       "      <td>Wild Card</td>\n",
       "      <td>2015</td>\n",
       "      <td>Thriller|Crime|Drama</td>\n",
       "      <td>Simon West</td>\n",
       "      <td>2.932340</td>\n",
       "      <td>5.3</td>\n",
       "      <td>30000000</td>\n",
       "      <td>0</td>\n",
       "      <td>-30000000</td>\n",
       "    </tr>\n",
       "    <tr>\n",
       "      <th>67</th>\n",
       "      <td>Survivor</td>\n",
       "      <td>2015</td>\n",
       "      <td>Crime|Thriller|Action</td>\n",
       "      <td>James McTeigue</td>\n",
       "      <td>2.331636</td>\n",
       "      <td>5.4</td>\n",
       "      <td>20000000</td>\n",
       "      <td>0</td>\n",
       "      <td>-20000000</td>\n",
       "    </tr>\n",
       "    <tr>\n",
       "      <th>74</th>\n",
       "      <td>Mythica: The Darkspore</td>\n",
       "      <td>2015</td>\n",
       "      <td>Action|Adventure|Fantasy</td>\n",
       "      <td>Anne K. Black</td>\n",
       "      <td>2.165433</td>\n",
       "      <td>5.1</td>\n",
       "      <td>0</td>\n",
       "      <td>0</td>\n",
       "      <td>0</td>\n",
       "    </tr>\n",
       "    <tr>\n",
       "      <th>75</th>\n",
       "      <td>Me and Earl and the Dying Girl</td>\n",
       "      <td>2015</td>\n",
       "      <td>Comedy|Drama</td>\n",
       "      <td>Alfonso Gomez-Rejon</td>\n",
       "      <td>2.141506</td>\n",
       "      <td>7.7</td>\n",
       "      <td>0</td>\n",
       "      <td>0</td>\n",
       "      <td>0</td>\n",
       "    </tr>\n",
       "    <tr>\n",
       "      <th>92</th>\n",
       "      <td>Mythica: The Necromancer</td>\n",
       "      <td>2015</td>\n",
       "      <td>Fantasy|Action|Adventure</td>\n",
       "      <td>A. Todd Smith</td>\n",
       "      <td>1.876037</td>\n",
       "      <td>5.4</td>\n",
       "      <td>0</td>\n",
       "      <td>0</td>\n",
       "      <td>0</td>\n",
       "    </tr>\n",
       "    <tr>\n",
       "      <th>...</th>\n",
       "      <td>...</td>\n",
       "      <td>...</td>\n",
       "      <td>...</td>\n",
       "      <td>...</td>\n",
       "      <td>...</td>\n",
       "      <td>...</td>\n",
       "      <td>...</td>\n",
       "      <td>...</td>\n",
       "      <td>...</td>\n",
       "    </tr>\n",
       "    <tr>\n",
       "      <th>10502</th>\n",
       "      <td>The Endless Summer</td>\n",
       "      <td>1966</td>\n",
       "      <td>Documentary</td>\n",
       "      <td>Bruce Brown</td>\n",
       "      <td>0.080598</td>\n",
       "      <td>7.4</td>\n",
       "      <td>0</td>\n",
       "      <td>0</td>\n",
       "      <td>0</td>\n",
       "    </tr>\n",
       "    <tr>\n",
       "      <th>10503</th>\n",
       "      <td>Grand Prix</td>\n",
       "      <td>1966</td>\n",
       "      <td>Action|Adventure|Drama</td>\n",
       "      <td>John Frankenheimer</td>\n",
       "      <td>0.065543</td>\n",
       "      <td>5.7</td>\n",
       "      <td>0</td>\n",
       "      <td>0</td>\n",
       "      <td>0</td>\n",
       "    </tr>\n",
       "    <tr>\n",
       "      <th>10504</th>\n",
       "      <td>Beregis Avtomobilya</td>\n",
       "      <td>1966</td>\n",
       "      <td>Mystery|Comedy</td>\n",
       "      <td>Eldar Ryazanov</td>\n",
       "      <td>0.065141</td>\n",
       "      <td>6.5</td>\n",
       "      <td>0</td>\n",
       "      <td>0</td>\n",
       "      <td>0</td>\n",
       "    </tr>\n",
       "    <tr>\n",
       "      <th>10505</th>\n",
       "      <td>What's Up, Tiger Lily?</td>\n",
       "      <td>1966</td>\n",
       "      <td>Action|Comedy</td>\n",
       "      <td>Woody Allen</td>\n",
       "      <td>0.064317</td>\n",
       "      <td>5.4</td>\n",
       "      <td>0</td>\n",
       "      <td>0</td>\n",
       "      <td>0</td>\n",
       "    </tr>\n",
       "    <tr>\n",
       "      <th>10506</th>\n",
       "      <td>Manos: The Hands of Fate</td>\n",
       "      <td>1966</td>\n",
       "      <td>Horror</td>\n",
       "      <td>Harold P. Warren</td>\n",
       "      <td>0.035919</td>\n",
       "      <td>1.5</td>\n",
       "      <td>19000</td>\n",
       "      <td>0</td>\n",
       "      <td>-19000</td>\n",
       "    </tr>\n",
       "  </tbody>\n",
       "</table>\n",
       "<p>5782 rows × 9 columns</p>\n",
       "</div>"
      ],
      "text/plain": [
       "                                title  release_year                    genres  \\\n",
       "48                          Wild Card          2015      Thriller|Crime|Drama   \n",
       "67                           Survivor          2015     Crime|Thriller|Action   \n",
       "74             Mythica: The Darkspore          2015  Action|Adventure|Fantasy   \n",
       "75     Me and Earl and the Dying Girl          2015              Comedy|Drama   \n",
       "92           Mythica: The Necromancer          2015  Fantasy|Action|Adventure   \n",
       "...                               ...           ...                       ...   \n",
       "10502              The Endless Summer          1966               Documentary   \n",
       "10503                      Grand Prix          1966    Action|Adventure|Drama   \n",
       "10504             Beregis Avtomobilya          1966            Mystery|Comedy   \n",
       "10505          What's Up, Tiger Lily?          1966             Action|Comedy   \n",
       "10506        Manos: The Hands of Fate          1966                    Horror   \n",
       "\n",
       "                  director  popularity  ratings    budget  revenue    profit  \n",
       "48              Simon West    2.932340      5.3  30000000        0 -30000000  \n",
       "67          James McTeigue    2.331636      5.4  20000000        0 -20000000  \n",
       "74           Anne K. Black    2.165433      5.1         0        0         0  \n",
       "75     Alfonso Gomez-Rejon    2.141506      7.7         0        0         0  \n",
       "92           A. Todd Smith    1.876037      5.4         0        0         0  \n",
       "...                    ...         ...      ...       ...      ...       ...  \n",
       "10502          Bruce Brown    0.080598      7.4         0        0         0  \n",
       "10503   John Frankenheimer    0.065543      5.7         0        0         0  \n",
       "10504       Eldar Ryazanov    0.065141      6.5         0        0         0  \n",
       "10505          Woody Allen    0.064317      5.4         0        0         0  \n",
       "10506     Harold P. Warren    0.035919      1.5     19000        0    -19000  \n",
       "\n",
       "[5782 rows x 9 columns]"
      ]
     },
     "execution_count": 128,
     "metadata": {},
     "output_type": "execute_result"
    }
   ],
   "source": [
    "df_m.query('revenue == 0')"
   ]
  },
  {
   "cell_type": "code",
   "execution_count": 129,
   "metadata": {},
   "outputs": [
    {
     "data": {
      "text/html": [
       "<div>\n",
       "<style scoped>\n",
       "    .dataframe tbody tr th:only-of-type {\n",
       "        vertical-align: middle;\n",
       "    }\n",
       "\n",
       "    .dataframe tbody tr th {\n",
       "        vertical-align: top;\n",
       "    }\n",
       "\n",
       "    .dataframe thead th {\n",
       "        text-align: right;\n",
       "    }\n",
       "</style>\n",
       "<table border=\"1\" class=\"dataframe\">\n",
       "  <thead>\n",
       "    <tr style=\"text-align: right;\">\n",
       "      <th></th>\n",
       "      <th>title</th>\n",
       "      <th>release_year</th>\n",
       "      <th>genres</th>\n",
       "      <th>director</th>\n",
       "      <th>popularity</th>\n",
       "      <th>ratings</th>\n",
       "      <th>budget</th>\n",
       "      <th>revenue</th>\n",
       "      <th>profit</th>\n",
       "    </tr>\n",
       "  </thead>\n",
       "  <tbody>\n",
       "    <tr>\n",
       "      <th>30</th>\n",
       "      <td>Mr. Holmes</td>\n",
       "      <td>2015</td>\n",
       "      <td>Mystery|Drama</td>\n",
       "      <td>Bill Condon</td>\n",
       "      <td>3.927333</td>\n",
       "      <td>6.4</td>\n",
       "      <td>0</td>\n",
       "      <td>29355203</td>\n",
       "      <td>29355203</td>\n",
       "    </tr>\n",
       "    <tr>\n",
       "      <th>36</th>\n",
       "      <td>Solace</td>\n",
       "      <td>2015</td>\n",
       "      <td>Crime|Drama|Mystery</td>\n",
       "      <td>Afonso Poyart</td>\n",
       "      <td>3.358321</td>\n",
       "      <td>6.2</td>\n",
       "      <td>0</td>\n",
       "      <td>22354572</td>\n",
       "      <td>22354572</td>\n",
       "    </tr>\n",
       "    <tr>\n",
       "      <th>72</th>\n",
       "      <td>Beyond the Reach</td>\n",
       "      <td>2015</td>\n",
       "      <td>Thriller</td>\n",
       "      <td>Jean-Baptiste LÃ©onetti</td>\n",
       "      <td>2.272044</td>\n",
       "      <td>5.5</td>\n",
       "      <td>0</td>\n",
       "      <td>45895</td>\n",
       "      <td>45895</td>\n",
       "    </tr>\n",
       "    <tr>\n",
       "      <th>74</th>\n",
       "      <td>Mythica: The Darkspore</td>\n",
       "      <td>2015</td>\n",
       "      <td>Action|Adventure|Fantasy</td>\n",
       "      <td>Anne K. Black</td>\n",
       "      <td>2.165433</td>\n",
       "      <td>5.1</td>\n",
       "      <td>0</td>\n",
       "      <td>0</td>\n",
       "      <td>0</td>\n",
       "    </tr>\n",
       "    <tr>\n",
       "      <th>75</th>\n",
       "      <td>Me and Earl and the Dying Girl</td>\n",
       "      <td>2015</td>\n",
       "      <td>Comedy|Drama</td>\n",
       "      <td>Alfonso Gomez-Rejon</td>\n",
       "      <td>2.141506</td>\n",
       "      <td>7.7</td>\n",
       "      <td>0</td>\n",
       "      <td>0</td>\n",
       "      <td>0</td>\n",
       "    </tr>\n",
       "    <tr>\n",
       "      <th>...</th>\n",
       "      <td>...</td>\n",
       "      <td>...</td>\n",
       "      <td>...</td>\n",
       "      <td>...</td>\n",
       "      <td>...</td>\n",
       "      <td>...</td>\n",
       "      <td>...</td>\n",
       "      <td>...</td>\n",
       "      <td>...</td>\n",
       "    </tr>\n",
       "    <tr>\n",
       "      <th>10501</th>\n",
       "      <td>Carry On Screaming!</td>\n",
       "      <td>1966</td>\n",
       "      <td>Comedy</td>\n",
       "      <td>Gerald Thomas</td>\n",
       "      <td>0.087034</td>\n",
       "      <td>7.0</td>\n",
       "      <td>0</td>\n",
       "      <td>0</td>\n",
       "      <td>0</td>\n",
       "    </tr>\n",
       "    <tr>\n",
       "      <th>10502</th>\n",
       "      <td>The Endless Summer</td>\n",
       "      <td>1966</td>\n",
       "      <td>Documentary</td>\n",
       "      <td>Bruce Brown</td>\n",
       "      <td>0.080598</td>\n",
       "      <td>7.4</td>\n",
       "      <td>0</td>\n",
       "      <td>0</td>\n",
       "      <td>0</td>\n",
       "    </tr>\n",
       "    <tr>\n",
       "      <th>10503</th>\n",
       "      <td>Grand Prix</td>\n",
       "      <td>1966</td>\n",
       "      <td>Action|Adventure|Drama</td>\n",
       "      <td>John Frankenheimer</td>\n",
       "      <td>0.065543</td>\n",
       "      <td>5.7</td>\n",
       "      <td>0</td>\n",
       "      <td>0</td>\n",
       "      <td>0</td>\n",
       "    </tr>\n",
       "    <tr>\n",
       "      <th>10504</th>\n",
       "      <td>Beregis Avtomobilya</td>\n",
       "      <td>1966</td>\n",
       "      <td>Mystery|Comedy</td>\n",
       "      <td>Eldar Ryazanov</td>\n",
       "      <td>0.065141</td>\n",
       "      <td>6.5</td>\n",
       "      <td>0</td>\n",
       "      <td>0</td>\n",
       "      <td>0</td>\n",
       "    </tr>\n",
       "    <tr>\n",
       "      <th>10505</th>\n",
       "      <td>What's Up, Tiger Lily?</td>\n",
       "      <td>1966</td>\n",
       "      <td>Action|Comedy</td>\n",
       "      <td>Woody Allen</td>\n",
       "      <td>0.064317</td>\n",
       "      <td>5.4</td>\n",
       "      <td>0</td>\n",
       "      <td>0</td>\n",
       "      <td>0</td>\n",
       "    </tr>\n",
       "  </tbody>\n",
       "</table>\n",
       "<p>5484 rows × 9 columns</p>\n",
       "</div>"
      ],
      "text/plain": [
       "                                title  release_year                    genres  \\\n",
       "30                         Mr. Holmes          2015             Mystery|Drama   \n",
       "36                             Solace          2015       Crime|Drama|Mystery   \n",
       "72                   Beyond the Reach          2015                  Thriller   \n",
       "74             Mythica: The Darkspore          2015  Action|Adventure|Fantasy   \n",
       "75     Me and Earl and the Dying Girl          2015              Comedy|Drama   \n",
       "...                               ...           ...                       ...   \n",
       "10501             Carry On Screaming!          1966                    Comedy   \n",
       "10502              The Endless Summer          1966               Documentary   \n",
       "10503                      Grand Prix          1966    Action|Adventure|Drama   \n",
       "10504             Beregis Avtomobilya          1966            Mystery|Comedy   \n",
       "10505          What's Up, Tiger Lily?          1966             Action|Comedy   \n",
       "\n",
       "                      director  popularity  ratings  budget   revenue  \\\n",
       "30                 Bill Condon    3.927333      6.4       0  29355203   \n",
       "36               Afonso Poyart    3.358321      6.2       0  22354572   \n",
       "72     Jean-Baptiste LÃ©onetti    2.272044      5.5       0     45895   \n",
       "74               Anne K. Black    2.165433      5.1       0         0   \n",
       "75         Alfonso Gomez-Rejon    2.141506      7.7       0         0   \n",
       "...                        ...         ...      ...     ...       ...   \n",
       "10501            Gerald Thomas    0.087034      7.0       0         0   \n",
       "10502              Bruce Brown    0.080598      7.4       0         0   \n",
       "10503       John Frankenheimer    0.065543      5.7       0         0   \n",
       "10504           Eldar Ryazanov    0.065141      6.5       0         0   \n",
       "10505              Woody Allen    0.064317      5.4       0         0   \n",
       "\n",
       "         profit  \n",
       "30     29355203  \n",
       "36     22354572  \n",
       "72        45895  \n",
       "74            0  \n",
       "75            0  \n",
       "...         ...  \n",
       "10501         0  \n",
       "10502         0  \n",
       "10503         0  \n",
       "10504         0  \n",
       "10505         0  \n",
       "\n",
       "[5484 rows x 9 columns]"
      ]
     },
     "execution_count": 129,
     "metadata": {},
     "output_type": "execute_result"
    }
   ],
   "source": [
    "df_m.query('budget == 0')"
   ]
  },
  {
   "cell_type": "markdown",
   "metadata": {},
   "source": [
    "<a id='conclusions'></a>\n",
    "## Conclusions"
   ]
  },
  {
   "cell_type": "markdown",
   "metadata": {
    "collapsed": true
   },
   "source": [
    "As results show in the analysis:\n",
    "- Movie directors should focus on 1. Action, 2. Adventure, 3. Comedy, 4. Drama, 5. Thriller, 6. Fantasy, 7. Familly, 8. Science Fiction, 9. Romance, 10. and Crime because that what most people whatch.\n",
    "- The number of movies have been growing povitively from 1960 to 2015. This shows how people are getting to like more movies every year coming. From year to year, the revenue increases, only between 2002 and 2007, the revenue decrease a bit.\n",
    "- The revenue doesn't increase because of a movie popularity, ratings and budget.\n",
    "#### Limitations in the Eploratory Data Analysis\n",
    "The minimum of revenue and budget are in 0 dollars. I believe this shouldn't be that way, but i couldn't guess the minimum amount of revenue and budget respectively and i coudn't drop the revenue and budget with the value of  0 dollar neither because there are more that 5000 movies with the values of  0 dollar  revenue and budget. "
   ]
  }
 ],
 "metadata": {
  "kernelspec": {
   "display_name": "Python 3",
   "language": "python",
   "name": "python3"
  },
  "language_info": {
   "codemirror_mode": {
    "name": "ipython",
    "version": 3
   },
   "file_extension": ".py",
   "mimetype": "text/x-python",
   "name": "python",
   "nbconvert_exporter": "python",
   "pygments_lexer": "ipython3",
   "version": "3.8.8"
  }
 },
 "nbformat": 4,
 "nbformat_minor": 2
}
